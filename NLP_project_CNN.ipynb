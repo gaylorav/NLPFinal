{
  "cells": [
    {
      "cell_type": "markdown",
      "metadata": {
        "id": "x4nxQDqg-w9f"
      },
      "source": [
        "# CNN Classifier: Positive and negative movie reviews\n",
        "\n",
        "Here we're going to use the same movie review dataset you used for PS1 and in the [Colab notebook for Class 6.3 or 7.1: Neural Nets for Classification](https://colab.research.google.com/drive/14RWCVTA8F56v_6d1H6Xg0kGOPdOGmjOG?usp=sharing). Here we're going to train a convoultional neural network (CNN) to predict whether a movie review is positive or negative.\n"
      ]
    },
    {
      "cell_type": "markdown",
      "source": [
        "## Import statements"
      ],
      "metadata": {
        "id": "Y3BjcdIzOG-L"
      }
    },
    {
      "cell_type": "code",
      "source": [
        "#keeping import statements\n",
        "import nltk\n",
        "from nltk import FreqDist\n",
        "import glob\n",
        "from nltk.corpus import stopwords\n",
        "import math\n",
        "import re\n",
        "import numpy as np\n",
        "import pandas as pd\n",
        "from sklearn import metrics\n",
        "from sklearn.model_selection import train_test_split\n"
      ],
      "metadata": {
        "id": "0kxTH1ps_fvO"
      },
      "execution_count": 34,
      "outputs": []
    },
    {
      "cell_type": "markdown",
      "source": [
        "## Getting and preparing the data\n",
        "\n",
        "The first several code blocks are just processing the data -- in exactly the same way we did in the Class 6.3 Colab notebook, where we trained a multilayer perceptron."
      ],
      "metadata": {
        "id": "k-Ko3KcQGUAc"
      }
    },
    {
      "cell_type": "code",
      "source": [
        "#reading in our data\n",
        "! curl -O https://raw.githubusercontent.com/gaylorav/NLPFinal/main/bg_descriptions.csv"
      ],
      "metadata": {
        "id": "dUnewQAK-8NS",
        "colab": {
          "base_uri": "https://localhost:8080/"
        },
        "outputId": "07a65a55-be33-4c79-88e1-bdb9e6ac9c57"
      },
      "execution_count": 35,
      "outputs": [
        {
          "output_type": "stream",
          "name": "stdout",
          "text": [
            "  % Total    % Received % Xferd  Average Speed   Time    Time     Time  Current\n",
            "                                 Dload  Upload   Total   Spent    Left  Speed\n",
            "100 18.1M  100 18.1M    0     0  4821k      0  0:00:03  0:00:03 --:--:-- 4821k\n"
          ]
        }
      ]
    },
    {
      "cell_type": "code",
      "source": [
        "descriptions_df = pd.read_csv(\"bg_descriptions.csv\")\n",
        "X=descriptions_df['description']\n",
        "y=descriptions_df['sentiment']\n",
        "X=np.array(X)\n",
        "y=np.array(y)\n",
        "X_pretrain, X_pretest, y_pretrain, y_pretest = train_test_split(X, y, test_size=0.2, random_state=25)\n",
        "print(X_pretrain[0])"
      ],
      "metadata": {
        "id": "MpU0xZ6eMnpF",
        "colab": {
          "base_uri": "https://localhost:8080/"
        },
        "outputId": "ea2f607b-23b9-4b46-96f0-15be998a2a54"
      },
      "execution_count": 36,
      "outputs": [
        {
          "output_type": "stream",
          "name": "stdout",
          "text": [
            "The players are cowboys who confront each other in a duel, playing their Revolver cards simultaneously. Pure minimalist double guessing in the heart of Far West! Each player takes the 9 cards of one color. He then discards 2 cards of his choice, face down. The game is played in a series of rounds, each composed of several turns (Duels). At each turn, the players secretly choose one of their cards and place it in front of them, next to the other cards that have been already played. If the difference between the 2 cards is less or equal to 3, the highest card wins as much Gold as the difference between the cards. If the difference between the 2 cards is more than 3, the lowest card wins as much Gold as the difference between the cards.  If both cards are equal, there is no winner. 2 Gold are placed between the 2 cards. description from the publisher \n"
          ]
        }
      ]
    },
    {
      "cell_type": "code",
      "execution_count": 37,
      "metadata": {
        "id": "XuRxJwiH-w9l",
        "colab": {
          "base_uri": "https://localhost:8080/"
        },
        "outputId": "e9cb8aff-8635-4f04-d7cd-0f9fabfbbe59"
      },
      "outputs": [
        {
          "output_type": "stream",
          "name": "stderr",
          "text": [
            "[nltk_data] Downloading package stopwords to /root/nltk_data...\n",
            "[nltk_data]   Package stopwords is already up-to-date!\n"
          ]
        },
        {
          "output_type": "stream",
          "name": "stdout",
          "text": [
            "[['round', 'play', 'In', 'take', 'number', 'card', 'leaving', 'based', 'option', 'collectively', 'possible', 'cards', 'partner,', 'player,', 'trick-taking', 'Once', 'chose.', 'starting', 'Nyet!,', 'one', 'category.', 'tricks', 'grid,', 'turns', 'opening', 'teams', 'choices', 'conditions', 'crossing', 'game', 'players', 'taken', 'player', 'discard,', 'trump,', 'super', 'value', 'determined,', 'chooses'], ['thematic', 'move', 'set', 'actions,', 'The', 'brings', 'Gather', 'Note:', 'drawing', '(how', 'saloon,', 'drive', 'them,', 'here:', 'etc.),', 'arrest', 'Western', 'Legendary', 'choose', 'gameplay', 'poker', 'roles', \"player's\", 'variety', 'American', 'mine,', 'box', 'include:', 'end', 'open-world', 'Wild', 'gun,', 'endless.', 'players', 'books.', 'Russian', 'Then', 'whoever', 'actions', 'expansions', 'path', 'ways:', 'and/or', 'outcomes', 'edition', 'experience', 'packaged', 'based', 'action', 'tabletop', 'Possible', 'depends', 'lets', 'entry', 'inside', 'Legends)', 'cards', '(Western', 'history!', '-', 'Award-winning', 'prospect', 'thus', 'many', 'wanted),', 'darn', 'keep', 'abilities,', 'winner', 'location', 'mount,', 'game.', 'Intuitive', 'outlaw,', 'mine', 'cattle,', 'life.', 'face', 'rob', 'game', 'across', 'game!', 'fight', 'bank,', 'gamble', 'mount),', 'grit', 'starts', 'status', '(LPs)', 'Each', 'far', 'sandbox', 'duel', 'highly', 'Points', 'Beautiful', 'three', 'contains', 'forge', 'earning', 'become', 'write', 'Historic', 'possibilities', 'actions.', 'choices', 'two', '2-6', 'legend', 'assume', 'pursue', 'era,', 'Legends', 'cash.', 'historical', 'West!', 'every', 'play', 'legendary', 'map', 'artwork,', 'West.', 'West', 'Players', 'near', '(such', 'history', 'gaming', 'gold,', 'characters', 'LPs', 'etc.', 'earned', 'stories,', 'presentation', 'legends', 'adventure', 'peace.', 'gold', 'new', 'figures', 'whether', 'gamble,', 'bandits,', 'Key', 'gaining', 'turn', 'location-specific', '(either'], ['Devil,', '1', 'World', 'Game', 'Wisconsin,', '10', 'set', 'Over', 'time,', 'The', 'dice,', 'Book', 'hiding', 'rulebook,', 'base', 'see.', 'Skinwalkers', 'mission', 'deck', 'chapter', 'well', 'Card', 'threat', 'expansions,', 'six-sided', 'cards,', 'role', 'allows', 'cards', 'goal,', 'fragments', 'true', 'Eight', 'Gameplay', 'stand-up', 'game.', 'Candlepoint,', 'appear', 'bonus', 'game', 'World,', 'playing', 'tokens;', 'often', 'world', 'among', 'card', 'repressed', 'apocalypse,', 'Each', 'features', 'dividers,', 'add', 'unique', 'Flesh', 'monsters', 'Hybrids.', 'contains', 'chapters', 'construction', 'motion', 'investigate.', 'memory', 'two', 'story-based,', 'master', 'unlock', 'comes', 'play', 'growth.', 'cooperative', 'brink', 'Apocrypha', 'game,', 'nexuses', '30', 'characters', '584', 'powers.', 'starting', 'called', 'new', 'storybook,', 'Adventure', 'character', 'setup', 'also', 'involves', 'hunting', '20', 'chapter.'], ['trying', 'Scape', 'youre', 'crime', 'That', 'coveted', 'taking', 'In', 'take', 'publisher', 'The', 'deductions,', 'Barn', 'goat', 'figure', 'group', 'masterminds,', 'Trade', 'criminal', 'idea', 'hoof', 'got', 'twist?', 'caper', 'renowned', 'billy', 'vault', 'player,', 'sure', 'come', 'make', 'pulled', 'you!', 'everyone', 'golden', 'it,', 'Stealing', 'Someones', 'greatest', 'cops', 'City.', 'scapegoat', 'yet.', 'Goat,', 'fall.', 'anyone!', 'bank', 'player', 'description', 'fall', 'could', 'internationally', 'right', 'youve', 'cards,', 'Youre', 'secure', 'theyre', 'part', 'table', 'you.', 'pin'], ['In', 'publisher', 'set', 'influence,', 'supreme.', 'lead', '1-4', 'clans', 'them,', 'drafting,', 'Isles', 'strategy', 'explorers', 'settlements', 'stand', 'own.', 'control,', 'glory', 'Cards', 'Gods', 'players', 'serve', 'build', 'upon', 'fertile', 'best', 'determined', '3', 'leaders,', 'dream', 'warriors.', 'navigate', 'Only', 'They', 'choosing', 'Vikings,', 'claiming', 'fjords,', 'crags,', 'game', 'playing', 'lands', 'fight', 'These', 'fast', 'Viking', 'Runic', 'clan', 'reign', 'builders,', 'North', 'conquer', 'explorers,', 'God', 'Tiny', 'afterlife,', 'steel.', 'collection.', 'Sea,', 'Vikings', 'rocky', 'blood', 'eras,', 'gain', 'every', 'battle', 'play', 'frigid', 'Epic', 'favor', 'settlers,', 'temples', 'represent', 'gods!', 'harvesters,', 'area', 'icy', 'boats', 'hopes', 'Valhalla.', 'islands', 'player', 'description', 'Raid'], ['Boss', '(with', 'New', 'integrate', 'Monster', 'classic', 'publisher', 'standalone', 'set', 'room', \"opponents'\", 'wreak', \"there's\", 'like', 'Base', 'mechanisms', 'order', 'Looks', 'rising', 'Rise', 'Minibosses!', 'insidious', 'cards', 'lure', 'Monster:', 'expansions.', 'dungeons.', 'heroes', 'dungeon', 'land', 'previous', 'power', 'new', 'threat', 'miniboss', 'reach', 'As', 'inspired', 'ways,', 'graphics', 'defeat', 'havoc', 'two', 'sets', 'before,', 'videogames)', 'Arcadia:', 'players', 'build', 'description', 'boss.', 'Minibosses'], ['gold.', 'course', 'determine', 'taking', 'publisher', 'move', 'map.', 'goods', 'pick-up-and-deliver', 'merchant', 'navigation', 'best', 'order', 'employs', 'mind', 'tricky', 'earn', 'Tides', 'cards', 'uniquely', 'Tricky', 'manage', 'Take', 'direction', 'ship', 'hold', 'island', 'collecting', 'sails', 'hand', 'tides!', 'Hoist', 'Travel', 'command', 'trick', 'ships.', 'game', 'players', 'description', 'charting', 'ships', 'turn', 'cargo', 'delivering'], ['unfavourable', 'simple', 'From', 'four', 'extend', 'original', 'de', 'try', 'eight', 'order', 'astonishingly', 'minimal', 'imprison', 'deploys', 'A', 'International', 'For', '2004', 'tactical', 'Jeux', 'make', 'situations.', 'must', 'distribution,', 'made', 'territory', 'new', 'that,', 'release', 'winner', 'pawns', 'leave', 'them.', 'creates', 'later', 'Concours', 'Socit.', 'board', 'complex', 'players', 'flagstones.', 'hexagonal', 'flagstones,', 'mechanism:', 'gaining', 'Crateurs', 'strategic', 'use', 'Exxit'], ['32-page', 'Game', 'two-sided', 'The', 'Book', 'complete', 'double-sided', 'battles', 'counters,', 'Companion', 'Diamond', 'Scythians,', 'full-color', 'started', 'maps', 'features:', 'Shock', '...', 'full-color-enhanced', 'per', 'TIME', 'OF', 'Edition', '720', 'artillery,', 'SCALE:', 'series,', '8.5x11\"', 'all.', 'minutes', 'cataphracted', 'New', 'changes', 'four', 'Player', 'tables', 'UNIT', 'Immortals', 'Battles', 'History', 'Indians', 'Components:', 'cards', 'sheets', 'version', 'Third', 'art', 'Cavalry', 'Wedge', 'Gaugamela', 'Danubian', 'scenarios', 'Juggernaut', '70', 'yards', 'many', '22x34\"', '10-sided', 'counters)', 'additional', 'rules,', 'game', 'multi-award-winning', 'module,', 'Persians,', 'PLAYERS:', '100', 'Granicus', 'Line', 'Eighteen', 'Great', 'Rule', 'Armies', 'battles,', 'includes', 'maps,', 'Alexander:', 'Contingent', 'expanded', 'Deluxe', 'Thessalian', 'hex', 'tribes,', 'best-selling,', 'Alexander', 'expanded,', 'die', 'Scenario', 'Command', 'MAP', 'Aid', 'war.', 'cavalry', 'virtually', 'map', 'original', 'Illyrians,', 'plus', 'updated,', 'Two', '(43', 'history', 'Macedonian', 'ten', 'double-size', 'Formations:', 'packaging,', 'Chaeronea,', 'Wing', 'Three', 'strength', 'Greeks', 'point', 'NUMBER', 'showing', 'counters', 'additions', 'One', 'charts', 'Greeks,', 'Kinsmen,', 'Restricted', 'elephants!', 'new', 'Cards:', 'Edition,', 'men', 'system', 'cover', 'five', 'major', '&', '24-page', 'turn', '20', 'Commanders', 'Persian'], ['present', 'collectors', 'buff', 'accurately', 'Hotz', 'set', 'regiment.', '300', 'The', 'fictitious', 'complete', 'campaign', 'simulation', 'English,', 'providing', 'battles', '60', 'portray', 'Gold,', 'deck', 'Card', 'graphics', 'Four', 'created', 'available.', 'Gold', 'battery,', 'cards,', 'common,', 'versions:', '(www.hotzartworks.com).', 'Historical', 'allow', 'eventually', 'artist,', 'final', 'edition.', 'Dutch,', 'full', 'artwork', 'Ligny,', '4', 'Collectible', 'gamers', 'cards', 'version', 'easily', 'depending', 'effect.', 'Recreate', 'hunt', 'recreate', 'Eagles:', 'Full', 'sets', 'general,', 'game', 'uniforms', 'Bras', 'rare,', 'Silver,', 'graphical,', 'climactic', 'generals', 'Waterloo', 'accurate', 'card', 'fun,', 'RPG/Historical', 'Each', 'accurate,', 'war', 'Quatre', 'Charleroi.', 'detailed,', 'identities', 'terrain', 'regimental', 'regiment,', 'contains', 'three', 'Wavre,', 'All', 'fast-paced,', 'Eric', 'rules', 'every', 'printed', 'series.', 'battle', 'played:', 'period.', 'plus', 'Eagles', 'bronze', 'containing', 'obtain', 'French,', 'order', 'silver', 'campaign.', 'flavor', 'different', \"Napoleon's\", 'Napoleonic', 'Silver', 'This', 'historically', 'Bronze.', 'uncommon,', 'significant', 'selected', 'German', 'nationality', 'special', 'portraits', 'also'], ['youre', 'anywhere.', 'surfaces', 'closest,', 'Play', 'The', 'suffer', 'whip', 'tense', 'closest', 'car', 'played', 'mano-a-mano,', 'fun!!', 'else', 'place', 'luckily', '(tried', 'end', 'whose', 'cheek', 'creativity,', 'players', 'agree', 'tell', 'whoever', 'push,', 'unleash', 'WINNING.', 'Come', 'maestro', 'At', 'bag,', '2', 'argue', 'long-winded', 'try', '4', '3', 'result', 'It).', 'want', 'pressure', 'direct', 'version', 'anywhere', 'Only', 'shuffling.', 'challenge.', 'central', 'decides.', 'pucks', 'quick', 'rules,', 'game', 'soon', 'measuring;', 'playing', '(without', 'To', 'It', 'lifting', 'friendships', 'round', 'Push', 'Well,', 'puck', 'learn', 'is!', 'flick', 'Off', 'remember', 'So', 'them),', 'trays', 'master.', 'table.', 'closer),', 'skill', 'ideal,', 'extra', 'two', 'opponents', 'Find', 'rules', 'pizza', 'jack', 'strategic', 'bonnets', 'really', 'simple?', 'play', '(Warning:', 'put', 'like', 'win!', 'Its', 'tie-break', '(tables', 'two.', 'knocking', 'Sound', 'point', 'win,', 'either', 'smooth', 'player,', 'round.', 'different', 'people', 'youll', 'going', 'surface', 'amongst', 'teams', 'judo-chop', 'hard', 'tested)', 'house', 'player', 'favourite', 'bum'], ['play', 'colors.', 'placed', 'square', 'captured', 'The', '8th', 'clocks', 'ending', 'opponent', 'checkmate', 'Each', 'used,', 'boards.', 'chess', 'Bughouse', 'sit', 'teammate', '5', 'captured,', '1st', 'except', 'opposite', 'controls.', 'person', 'teammate.', '(exception:', 'decide', 'cannot', 'chess,', 'work', 'played', 'piece', 'games.', 'standard', 'Chess', 'thus', 'first', 'people', 'minute', 'place', 'members', 'variation', 'Team', 'unoccupied', 'teams', 'given', 'pawns', 'rank).', 'lose', 'team,', 'time', 'move,', 'two', 'whenever', 'loses', 'normal', 'board', 'win.', 'beside', 'plays', 'player', 'clock', 'playing', 'generally', 'together'], ['departure.', 'doubt', 'Exis', 'In', 'Stratologisi', 'phase,', 'The', 'receiving', 'successor', 'welcomes', 'lead', 'temple', 'around', 'combines', 'maximize', 'bonus.', 'known', 'Be', 'remunerate', 'team', 'patients', 'Asclepios,', 'hire', 'medicine', 'link', 'worthy', 'lot', 'away', 'risk', 'players', '4.', 'four', 'If', 'best', 'tile', 'try', 'Mediterranean', 'doctors', 'rounds,', 'Pliromi', 'manage', 'ever.', 'BCE', 'hospital.', 'create', 'easier', 'one', 'first', 'Hippocrates', 'perpetuating', 'Travel', 'auction', 'game', '2.', \"Hippocrates'\", 'Therapeia', 'leads', 'medical', 'hospital', 'right', 'prepare', 'purchase', 'sure', 'round', 'durability', 'need', 'regarding', '3.', '370', 'treatment', 'assets.', 'goal', 'Each', 'points,', 'treat', 'help,', 'hope', 'management,', 'kits.', 'select', '5.', 'Kos.', 'come', 'make', 'island', 'three', 'placement,', 'mix', 'become', 'successor.', 'lose', 'later', 'receive', 'resource', 'victory', 'urgent', 'Greece', 'both,', 'phases:', 'obtains', 'history.', 'Now', 'Players', 'back', 'lasts', 'patients.', 'reputation', '1.', 'doctor.', 'reputation,', 'may', 'passed', 'successors,', 'exciting', 'next', 'help', 'round.', 'new', 'activities.', 'As', 'divided', 'challenge', 'time', 'Kalosorisma', 'You', 'bidding,', 'board', 'player', 'increase', 'five', 'puzzle', 'count', 'carefully', 'others,'], ['draw', 'uses', 'In', 'Game', 'pitting', 'offer', 'establish', 'entail.', 'influence,', 'The', 'Throne!', 'brokered', 'cunning', 'alliances,', \"there's\", '\"active\"', 'iconic', 'around', 'disposal', 'hoping', 'battles', 'enough', 'play.', 'bid', 'systems', 'truce.', 'still', 'House', 'else.', 'initial', 'devious', 'however,', 'side', 'resolution', 'though', 'Of', 'ultimate', 'truce,', 'Iron', 'players', 'jostling', 'encounter', 'agree', 'epic', 'And', 'use', 'alliances.', 'take', 'power.', 'full', 'contest', 'Tyrells', 'lying,', 'result', 'opportunities', 'formation', 'cards', 'suffer.', 'Lannisters', 'conquests,', 'Description', 'Negotiate,', 'within', 'spread', 'There', 'one', 'threaten', 'encounters,', 'command', 'even', 'schemes', 'game', 'maintain', 'discuss', 'right', 'side.', 'Throne,', 'Cosmic', 'These', 'Houses', 'intrigues,', 'behalf', 'Great', 'starts', 'betrayals', 'someone', 'escalate', 'goal', 'challenger', 'Each', 'hands,', 'features', 'way,', 'yourself.', 'higher', 'event', 'crown', 'detail,', 'alliances', 'seize', 'power,', 'Throne', 'position', 'sword.', 'Thrones:', 'players.', 'influence', 'find', 'However,', 'intend', 'publisher:', 'startling', 'forge', 'claim', 'total', 'Win', 'give', 'lose', 'two', 'good', 'Houses,', 'Houses.', 'Or', 'hostilities', 'Throne.', 'every', 'supremacy,', 'course,', 'ones', 'put', \"opponents'\", 'encounters', 'negotiations,', 'order', 'tool', 'centers', 'color', 'quickly,', 'active', 'characters', 'strategy,', 'may', 'win,', 'either', 'hostages,', 'friends', 'Encounter,', 'might', 'prize:', 'defender,', 'hostilities,', 'peace.', 'players,', 'assign', 'resolve', 'rivals', 'chance', 'support', 'information', 'schemes.', 'Starks', 'You', 'Westeros,', 'hidden', 'schemes,', 'temporary', 'win', 'five', 'bluffs,', 'turn', 'bluff,'], ['battle', 'festival', 'play', 'scoring', 'In', 'feasts,', 'glory.', 'starts', 'publisher', 'Players', 'The', 'best', 'Each', 'year', 'points,', 'games,', 'bravest', 'consider', 'drafting', 'properties.', 'order', 'allotted', 'assemble', 'seven', 'clans', 'ten', 'color', 'earn', 'strengths', 'yellow', 'powers', 'stories,', 'dice', 'mid-summer', 'round.', 'annual', 'teams.', 'panda', 'many', 'pick', 'peace', 'players,', 'This', 'wherein', 'pandas', 'abilities,', 'minutes.', 'hand', 'begins,', 'After', 'vie', 'games', 'gather', 'dice-drafting', '20-30', 'Royale,', 'honor', 'prosperity.', 'game', 'quick-paced', 'builds', 'player', 'description', 'competition', 'die,', 'Elders', 'Panda', 'years', 'rounds', 'single', 'carefully', 'host', 'celebrate'], ['every', 'deep', 'Blood', 'monsters.', 'encounters', 'The', 'order', \"Og's\", 'bottom', 'confront', 'difficult', 'events', 'playthrough', 'enough', 'unique', 'Mini', 'resources', 'make', 'must', 'called', 'dungeon', 'choose', 'powerful', 'Random', 'famous', 'Rogue', 'ruby', 'spend', 'experience.', 'game', 'player', 'nine-card', 'get', 'single', 'delves', 'ever', 'floor.'], ['Mech', 'better', 'certain', 'combat.', 'dock', 'In', 'Work', 'armor', 'deterministic', 'equipment', 'acquire', 'engage', 'war', 'Gigantic', 'future,', 'Mech.', 'weapons', 'missions', 'placement', 'fit', 'creatures', 'invaded', 'workers', 'next', 'resources', 'influence', 'corporations', 'Once', 'monsters', 'kill', 'Galxia', 'tiranic', 'people', 'power', 'becoming', 'peace.', 'da', 'Tile', 'rewards', 'excelent', 'galaxy.', '(tiles)', 'management.', 'megacorporations', 'building', 'mech', 'gather', 'euro', 'Hunter.', 'Caadores', 'haunt', 'You', 'gear.', 'planets', 'Theres', 'distant', '(Galaxy', 'game', 'combat', 'serve', 'build', 'resource', 'planets,', 'lab', 'victory', 'points', 'oportunity', 'Galaxy', 'buy', 'Hunters)', 'also', 'gain'], ['present', 'uses', 'In', 'along', 'move', 'edge', 'guardian', 'set', 'foundational', 'The', '2-player', 'errors', 'versions,', 'around', 'double-sided', 'trading', 'play.', 'finishers,', 'games.', 'still', 'tactics,', 'played', 'head-to-head', 'choose', 'gameplay', 'share.', 'fighters,', 'trapper,', 'fast-paced', 'selects', 'players', 'head', 'Devastation', 'Indines', 'basic', 'cards,', 'wins!', 'exactly', 'included', 'using', 'War', 'balance', 'changes', 'standalone', 'more!', 'variants.', 'based', 'opponent,', '2', '2D', 'standing', 'test', 'strategies,', 'strike', 'mechanism', 'cards', 'blows', 'version', 'attempting', 'another', 'art', 'styles', 'control', 'choose!', 'create', 'There', 'challenging', 'combining', 'one', '18', 'intuition.', 'multiple', 'characters,', 'pool', 'components,', 'even', 'sets', 'game', 'print.', '\"Remastered\"', 'shadowy', 'It', 'styles,', 'last', 'BattleCON', 'mechanics', '\"Classic\"', 'card', 'designed', 'Each', 'fighting', 'features', 'information:', '\"Remastered.\"', 'includes', 'Indines.', 'unique', 'expansions.', 'BattleCON,', 'loosely', 'outdated', 'tactics', 'panda', '______________________________________________________________________________', 'contains', 'standard', 'master.', 'ocean', 'duels.', 'making', 'give', 'dueling', 'artists.', 'attacks', 'two', 'drawn', 'removed', \"character's\", 'abilities', 'board,', 'combined', 'easy', 'battle', 'play', 'combat.', 'ones', 'holds,', 'fighters', 'Players', 'dubbed', 'formed', 'opponent', 'streamlined', 'rulebook', 'contained', 'fire', 'assassin,', 'style', 'characters', 'strategy,', 'permanently', 'match', 'powers', 'focuses', 'seven-space-long', 'Take', 'greater', 'different', 'uniform', 'space-bending', 'players,', 'This', 'new', 'updated', 'familiar,', 'BattleCON:', 'character', 'variants', 'know', 'player', 'hidden', 'requires', 'always', 'elemental,', 'learn,', 'also'], ['fool', 'easy', 'Are', 'Can', 'scoring', 'wildlife', 'publisher', 'card', 'The', 'park', 'Anteaters', 'awaits!', 'lonely', 'rescue', 'paced', 'plains?', '3', \"Don't\", 'friendly', 'highest', 'Lions', 'sloths', 'looks', 'life', 'adventure', 'pick', 'Zuuli', 'going', 'let', 'though!', 'Collect', 'keep', 'thinking', 'game.', 'upgrades', 'Savannah', 'away', 'fierce', 'island?', 'Your', 'animals', 'install', 'pass', 'build', 'living', 'happy', 'description', 'enclosures,', 'years', 'cutesy', 'fast', 'Open-Air'], ['youre', 'Part', 'suspect', 'offer', 'wits', 'publisher', 'working', 'finally', 'universes', 'The', 'puzzles', 'solve', 'struggling', 'easy,', 'games,', 'ambitious', 'Puzzles', 'Lavel,', 'Olympics,', 'them,', 'mystery', 'providing', 'Belle', 'Chronicles', 'discover.', 'navigating', 'great', 'helps', 'Series\".', 'gameplay', 'Crime', 'narrative', 'famous', 'Series', 'scene?', 'millennium', 'players', 'Summer', 'Millennium', 'newspaper,', '\"The', 'message', 'collect', 'standalone', 'solving', 'decipher', 'threads', 'Crime:', 'runs', 'suspects', 'map?', 'flourishes.', 'Charlotte', 'help.', 'since', 'skillfully', 'Paris', 'column', '-', 'family', 'There', 'brand', 'many', 'first', 'one', 'kidnappings,', 'with.', 'game', 'young', 'challenges', 'often', 'right', 'It', 'Riddles', 'Universelle,', 'interested', 'scenario.', 'able', 'Middle', 'among', 'Ages,', 'found', 'colleague', 'connecting', 'escape-room-style', 'metro', 'journalist', 'safe?', '1900', 'year', 'twists', 'crimes', 'stuck,', 'poque,', 'Being', 'open', 'station,', 'make', 'find', 'interesting', 'guess', 'three', 'combination', '-description', 'All', 'Would', 'give', 'Exposition', 'opening', 'games', '1900,', 'wont', 'cover,', 'get', '2400.', 'evidence', 'Can', 'crime', 'ones', 'encrypted', 'range', 'back', 'Victor', 'ask', \"It's\", 'stories', 'interrogate', 'middle', 'trace', 'Three', 'refreshing', 'murders,', 'robberies.', 'much', 'called', 'new', 'perpetrator.', 'You', '1400', 'entire', 'know', 'She', 'hint', 'system', 'always', 'incorporated', 'major', 'newspaper.', 'also', 'span'], ['landing', '(landing', 'would', 'cant', 'partner', 'deemed', 'publisher', 'Radios', 'alien', 'attempt', 'The', 'Creature', 'ambitious', 'away.', 'complete', 'Far', 'worlds', 'survival,', 'board.', 'hunger,', 'different.', 'discovery,', 'psychological', 'grievous', 'since,', 'behavioral', 'Realistically', 'Away', 'willing', 'Yourself', 'close', 'forced', 'creatures', 'Be', 'known', 'fail', 'exploration', 'online', 'started', '(ROLEPLAY).', 'mission', 'explorers', 'Survive,', 'life)', 'must', 'minimal', 'begin', 'budget', 'variety', 'Plan', 'Alien', 'meager', 'Logically', 'ProgramThe', 'pieces.', 'rebuild', '5.75#', 'accomplish', 'Explorer', 'off-the-clock.', 'upwards', 'prosperity.', 'gear', 'fail!', 'completion.', 'offers', 'help!', 'upon', 'potential', 'manual', 'injuries.', 'way', 'actions', 'included', 'real', 'intervention.', 'allows', 'communicate', 'home.', 'charter', 'credit', 'expenses.', 'galactic', 'strategize,', 'ecosystem.', 'bureaucracy', 'storytelling.', 'Thats', 'rewarded', 'radios,', 'account', 'missions', 'nearly', 'humans', 'DutiesThe', 'challenge.', 'DNA', 'spaceship', 'multiple', 'Inside', 'meltdown', 'tasked', 'quick', 'guide', 'CreaturesEach', 'temperament,', 'without', 'game', 'two-player', 'Federation', 'government', 'separating', 'medical', 'challenges', 'discover', 'supplies.', 'ago', '32', 'forewarned:', 'encourage', 'box,', 'communication', 'surviving.', 'you,', 'lightyears.', 'goal', 'Each', 'register', 'far', 'identified', 'diet,', 'proximity.', 'randomly', 'generated', 'unique', 'minimalist', 'provided', 'straight', 'Once', 'find', 'However,', 'log', 'behavior', '800', 'budget.', 'love', 'undertake', 'Experts', 'reduce', 'us', 'two', 'setbacks', 'Recruitment', 'ecosystems,', 'several', 'crushing', 'delivered', 'die', 'youve', 'alone', 'operational', 'crashed', 'comes', 'importance', 'vibrant', 'every', 'patterns.', 'Performed', 'explore', 'ship.', 'default', 'KitYour', 'Please', 'loneliness', 'Trust', 'dictated', 'like', 'optional),', '(in', 'Succeed', 'provided,', 'mapping', 'cycles', 'Log', 'luxuries', 'Join', 'gear,', 'educate', 'movement,', 'assemble', 'Succumb', 'active', 'Explorers', 'prevents', 'creature', 'program', 'instruction', 'help', 'worlds.', 'Thanks', 'paycheck.', 'Dont', 'co-operative', 'kit', 'sub-objectives', 'factors.', 'Alliance,', 'explorer,', 'youll', 'creativity', 'Events', 'This', 'new', 'choose.', 'loneliness,', 'Objectively', 'Animals', '50', 'Alliance', 'embrace', 'selected', 'universe,', 'You', 'ahead!', 'board', 'Your', 'description', 'planet,', 'planet', 'physical', 'world.', 'vital', 'inner-alien', 'paramount', 'We', 'also'], ['draw', 'determine', 'Game', 'scheme', 'The', 'designer', 'wins.', 'borders', 'Yellow', 'Red', 'crack', 'Elephants,', 'play.', 'maps', 'voters', 'must', 'elections.', 'per', 'place', 'tie,', 'end', 'means', 'Mapmaker:', 'Make', 'way', 'whoever', 'guarantee', 'districts.', 'At', 'four', 'If', 'full', 'strategize?', 'best', 'try', 'victory?', 'Leaves.', 'inside', 'Porcupines,', 'pack', 'Gerrymandering', 'party:', 'create', 'spread', 'claims', 'mapmaker,', 'surprises,', 'But', 'scramble', 'voters?', 'lopsided,', 'party', 'theres', 'first.', 'across', 'When', 'sure', 'fast', 'wins', 'unfair,', 'it.', 'learn', 'starts', 'counties.', 'lines', 'mapmakers.', 'Green', 'yourself.', 'Everyone', 'job?', 'partys', 'hands-on', 'gerrymandering', 'make', 'Blue', '-description', 'shaped', 'gets', 'get', 'swing', 'voters,', 'turn.', 'Can', 'sectioned', 'number', 'closed', 'Donkeys,', 'Players', 'game,', 'Its', 'outmaneuvers.', 'political', 'counties', 'next', 'belong', 'maneuvers,', 'strangely', 'election.', 'districts', 'off,', 'redraw', 'You', 'entire', 'board', 'district', 'Your'], ['tea.', 'asset,', 'along', 'Transform', 'The', 'empire', 'fresh,', 'important', 'valley.', 'mission', 'deck', 'trade', 'Harness', 'prized', 'strength,', 'expand', 'main', 'establishing', 'build', 'cards,', 'green', 'actions', 'river,', 'grades', 'four', 'action;', 'acquire', 'serene', 'river', 'secondary', 'cards', 'gardens,', 'navigate', 'brown', 'ferment', 'Garden', 'effects', 'one', 'power', 'performing', 'fermentation,', 'game', 'proud', 'region,', 'Yunnan', 'leaves,', 'cultivate', 'harvest', 'cups,', 'quality', 'studies', 'eager', 'higher', 'Chinese', 'university.', 'leaves', 'tea', 'gardens', 'owner', 'mature.', 'vibrant', 'better', 'elevating', 'region', 'grow', 'producing', 'Couple', 'rich,', 'strength', 'Tea', 'round.', 'different', 'practice', 'value!', 'new', 'As', 'chosen', 'caravans,', 'orchestrate', 'achieve.', 'aromatic', 'six', 'With', 'produce'], ['From', 'World', 'In', 'publisher', 'elements', 'spending', 'attempt', 'securing,', 'heavily', 'fuel.', 'strategies', 'buildings', 'buildings,', 'unlock;', 'base', 'enough', 'annihilate', 'mission', 'games.', 'tactics,', 'attempts', 'Heroes', 'upgrade', 'level', 'end', 'closely', 'players', 'armor,', 'points', 'multi-unit', 'unleash', 'eventually', 'nation.', 'project', 'upgrades.', 'War', 'four', 'collect', 'based', 'forces', '2', \"enemy's\", 'units.', 'video', \"Player's\", 'units', 'spotting,', 'capture', 'control', 'many', 'combining', 'one', 'abilities,', 'fans', 'munitions', 'base.', 'spend', 'win.', 'game', 'fog', 'To', 'It', 'fun', 'purchase', 'unlocking', 'Heroes,', \"'port'\", 'teams,', 'war,', 'choices,', 'points,', 'videogame.', 'factions', 'squad', 'resources', 'summary', 'tactics', 'captures', 'love', 'beloved', 'choices', 'deciding', 'Relic/Sega.', 'upgrades,', 'experience.', 'resource', 'victory', 'movement', 'construct', 'unlock', 'secure', 'economy,', 'battle', 'maneuver', 'enemy', 'Players', 'opponent', 'grow', 'veteran', 'streamlined', 'end-game', 'individuals,', 'A', 'strategy,', 'manpower,', 'win,', 'either', 'tactical', 'wargame,', \"team's\", 'utilizing', 'focuses', 'help', 'collecting', 'flanking', 'user', 'totally', 'powerful', 'This', 'new', 'board', 'distills', 'description', 'cover', 'involves', 'Company', 'also'], ['ball', 'scored', 'defined', 'play', 'recreating', 'number', 'If', 'The', 'represents', 'point.', 'game,', 'mainly', 'tries', 'enough', 'unique', 'areas', '\"pts\",', 'tennis.', 'Points', 'make', 'flicking.', 'flicks', 'side', 'follows', '/', 'turn,', 'ends', 'reach', 'reaches', '\"pts\".', 'game.', 'games', 'sets', 'beginning', 'Match', 'game', 'board', 'pawn.', 'away', 'players', 'court.', 'player', 'win', 'tennis', 'rules', 'court,', '&', 'gives', 'sensations', 'On', 'Set', '\"net\"', 'scores']]\n",
            "[['9', 'Pure', 'At', 'choice,', 'If', 'publisher', 'placed', 'card', 'Revolver', 'The', '2', 'lowest', 'already', 'Each', '3,', 'discards', 'Far', 'secretly', 'confront', 'rounds,', 'highest', 'them,', 'guessing', 'cards', 'He', 'minimalist', 'difference', 'composed', 'series', 'equal,', 'next', 'heart', 'played', '(Duels).', 'double', 'color.', 'choose', 'one', 'equal', 'takes', 'much', 'cards.', 'place', 'played.', 'turn,', 'duel,', 'down.', 'turns', 'winner.', 'less', 'face', 'game', 'several', 'Gold', 'players', 'player', 'front', 'playing', 'description', 'cowboys', 'wins', 'simultaneously.', 'West!'], ['wasnt', 'day', 'standing.', 'every', 'course,', 'From', 'play', 'That', 'draw', 'cage', 'quite', 'Game', 'In', 'card', 'left', 'cleanest', 'something', 'line', 'mess', 'food', 'Each', 'poo', 'Poo', 'eight', 'break.', 'monkey', 'world,', 'Its', 'flinging.', 'cards', 'fifteen', 'done', 'Catalyst', 'play.', 'thing', 'anywhere', 'either', 'waiting', 'another', '-', 'card,', 'furious', 'one', 'takes', 'players,', 'fling', 'right.', 'turn,', 'defend', 'foil', 'one.', 'Labs', 'gets', 'tough', 'Out', 'Website:', 'clean', 'tonight', 'two', 'You', 'monkey,', 'usually', 'game', 'fast-paced', 'lunch', 'players', 'minutes', 'player', 'theres', 'poo!', 'five', 'requiring', 'role', 'monkey.', 'fast', 'off.'], ['brain', 'Stacks', 'simple', 'stack', 'start', 'four', 'take', 'number', 'Players', 'The', 'winning', '(three', 'tile', 'wins.', 'scattered', 'topped', 'height', 'tiles', 'rounds,', 'versions', 'either', 'stacks', 'another', 'suggest', 'Some', 'consists', 'cannot', 'players.', 'make', 'three', 'color.', 'Babylon', 'creating', 'one', '(a)', 'first', 'place', 'five,', 'turn,', 'colors,', 'fast-playing', 'twelve', 'turns', 'game.', 'play,', 'two', 'loses', '(b)', 'game', 'player', 'high.', 'move;', 'playing', 'win', 'teaser', 'rounds', 'etc.)', 'On', 'table', 'divided.'], ['movie', 'Alien.', 'Nostromo', 'USCSS', 'Alien:', 'based'], ['railway', 'Earl', 'play', 'Grey', 'named', 'mechanics', 'taking', 'Miss', 'Peach,', 'poison', 'Office,', 'Ticket', 'Car', 'Slate-Grey', 'The', 'Engine', 'depicts', 'Super', 'station', 'Istanbul.', 'UK', 'suspects', 'Cluedo', 'nine', 'mansion,', 'Orient', 'weapons', 'include', 'Kiosk.', 'Challenge,', 'Blunderbuss.', '(changed', 'version', 'Challenge.', 'although', 'suspects,', 'never', 'Being', 'station,', 'Brown', 'However,', 'There', 'axe,', 'usual', 'instead', 'takes', 'released', 'place', 'Property', 'This', 'things', 'As', 'bottle', 'Italy,', 'Dining', 'positioned', '(clearly', 'Express,', 'two', 'rules).', 'rooms', 'additional', 'Challenge).', 'game', 'board', 'platforms', 'murder', 'rooms.', 'situated', 'Mr', 'Room.', 'France,', 'Lost', 'Spain.', 'also', 'train'], ['Stomp', 'From', 'form', 'alien', 'The', 'Red', 'weapons', 'urchins', 'proper', 'must', 'children', 'side', 'stay', 'giant', 'created', 'alive.', 'away', 'head', 'angels', 'game...\"An', 'big', 'Yeasts', 'exploded', 'chunk', 'cheerfully', 'try', '3', 'whole', 'bigger', 'Slaps', 'strange', 'Originally', 'Zaps.', 'another', '-', 'exploding', 'piece', 'Zap', 'unit', 'Biters.', 'one', 'beings', 'Globbo).', 'Space', 'Biters', 'line.', 'game', 'cute', 'explode', '(except', 'combine', 'parts', 'baby-sitter', '15', 'Yeast', 'His', 'homicidal', 'Globbo,', 'hexes', 'difference', 'adjacent', 'remain', 'straight', 'attack', 'come', 'exceptionally', 'Blue', '62', 'Ogre', 'three', 'types,', 'less', 'spaces.', 'Apr', 'really', 'Blips', '1983).', 'like', 'amoeba', 'Gamer', 'bunch', 'playpen.\"', 'published', '(Issue', 'hit', 'powerful', 'little', 'other.', 'As', 'grows', 'time', 'Globbo', 'taken', 'moves', 'also', 'also.'], ['gross', 'In', 'wins.', 'a.k.a.', 'guesses', 'drawing', 'pile', 'deck', 'Assel', 'must', 'well', 'row.', 'correctly', 'place', 'bugging', 'turns', 'players', 'animals', 'this,', 'types', 'pile.', 'whoever', 'table', '\"Woodlouse', 'communicate', 'clap', 'four', 'take', 'opponent,', 'runs', 'Chaos\",', 'want', 'cards', 'center', 'Whoever', 'claims', 'many', 'one', 'Schlamassel,', 'row', 'animal', 'slap', 'bugs', 'To', 'need', 'starts', 'placed', 'card', 'Each', 'animal,', 'incorrect', 'card,', 'three', 'guess', 'clearly', 'laid', 'give', '1-5', 'trying', 'times', 'number', '15-18', 'opponent', 'card.', 'clue-giver', \"animal's\", 'them!', 'sequencing', 'A', 'hands', 'One', 'equal', 'time', 'table,', 'know', 'player', 'scoring'], ['speaking', 'present', 'would', 'determine', 'score', 'donate.', 'In', 'Later', 'The', 'box.', \"there's\", 'Rather', 'games,', 'sudden', 'around', '(color,', 'challenge,', 'distributed', 'persuasiveness.', 'got', 'enough', 'What', '_Sound', 'Scattergories),', 'space', 'trade', 'well', \"player's\", 'answer', 'beg', 'turns', 'winner.', 'spot', 'player.', 'Feud', 'problems', 'seat,', '(lose', 'players', 'Me', 'points', 'score,', 'rather', 'away,', 'certain', 'edition', 'yours.', 'take', 'matching', '\"Nuclear', 'powerhouse', 'TV', 'seriously,', 'finish', 'makes', 'BLANK\").', 'ask?)', 'bizarre', 'want', 'seconds.', '_Skid', 'earn', '_Party', 'take.', 'topic', 'another', '-', 'control', 'true', 'one', 'to,', 'first', 'vote', 'continues', 'pawns', 'colored', 'ballot', 'fill-in-the-blank', 'Hear', 'did,', 'bonus', 'game', 'proceedings', 'lots', 'Why', 'party', 'To', 'right', 'switch', 'Some', 'sure', 'wins', 'reminiscent', 'unfortunate', 'Out,', 'ranting', 'someone', 'challenger', 'points,', 'far', 'rolling', 'show),', 'unique', 'affects', 'remain', 'identities', 'space,', 'position', 'remaining', 'make', 'Bite_', '(1-3)', 'interesting', 'land', 'takes', 'retail', 'earning', 'loser', 'write', 'give', 'short', 'votes', 'form,', 'silly', 'colors', 'free-association', 'nameless.', 'Family', 'get', 'die', 'board,', 'added', 'latest', 'really', 'edition:', 'type', 'crowd.', 'put', 'Players', 'coffee', 'Change_', 'Like', 'like', 'question', '(such', '(a', 'kind', 'game,', '30', 'color', 'point', 'presentation', 'works', 'person', 'never', 'rounds.', 'One', 'no-one', 'Second', 'corrects', '_Brainstorm_', 'Says!_', 'players,', 'beverage?!?)', 'This', 'As', 'reaches', 'challenge', 'change', 'touch', 'First', 'had.', 'possible.', '(vaguely', 'involves', 'major', 'moves', 'Another', 'turn', '_Survey', 'Row_'], ['series.', 'file', 'Game', 'hand.', \"'TABLE-FREE'\", 'The', 'Number', 'expose', 'O', 'bomb!', '14', 'Use', \"yet...you're\", \"opponent's\", 'SPY', 'Covert,', 'position', 'Crack', 'fun!', 'management', 'secret', 'find', 'within', 'safe,', 'much', 'investigate', 'hand', 'Pack', 'blown', 'action-packed', 'deduction.', 'worse', 'careful', 'top', 'pieces', 'game', 'goal:', 'hand,', \"spy's\", 'reveal', 'yours...or'], ['balance', 'start', 'If', 'The', 'needed', 'fell', 'ado', 'shakes', 'iceberg,', 'want', 'slippery', 'avoid', 'penguins', 'colony.', 'must', 'There', 'joining', 'much', 'iceberg', 'place', 'All', 'succeed', 'commotion.', 'keep', 'players,', 'planning', 'icy', 'hand', 'water', 'But', 'penguin', 'below!', 'careful', 'win', 'fall,', 'iceberg.', 'Steady', 'game!'], ['certain', 'used', 'Original', 'changes', 'description:', 'hand.', '10', 'original', 'number', 'card', 'Players', 'In', 'based', 'The', '10th', 'finish', 'wins.', 'Two', 'runs', 'rummy-type', 'future', 'have.', 'ten', 'include', 'color', 'A', 'cards', 'done', 'order.', 'Phase', 'etc.', 'One', 'collecting', 'first', 'pick', 'phases.', 'hand', 'given', 'case', '10:', 'rule', 'beginning', 'numbers,', 'game', 'phase', 'ties,', 'players', 'player', 'Phases', 'compete', 'cards,', 'least', 'major', 'completing', 'points', 'saved'], ['simple', 'sounds.', 'form', 'At', 'take', 'corresponding', 'If', 'quickly.', 'reproduce', \"other's\", 'dealt', 'makes', 'hilarious', 'pile', 'game,', 'discard', 'pile.', 'them,', 'A', 'cards', 'hands', 'For', 'identities', 'up.', 'Whoever', 'fastest', 'make', 'must', 'There', 'shake', 'hit', 'one', \"player's\", 'everyone', 'mimic', 'sound', 'given', 'turns', 'example,', 'end', 'gets', 'change', 'winner.', 'identity', 'difficult.', 'animal', 'two', 'beginning', 'even', 'game', 'face', 'players', 'possible.', 'player', 'front', 'party', 'cards,', 'special', 'Then', 'quickly', 'suddenly', 'sound.', 'table', 'also', 'turning'], ['receives', 'removing', 'form', 'If', 'card', 'The', 'action', 'Tower!', 'point.', 'fallen', 'points,', 'nine', 'color', 'vertically', 'next', 'come', 'family', 'must', 'three', 'one', \"player's\", 'takes', 'negative', 'place', 'wooden', 'blocks,', 'colors,', 'game.', 'After', 'them.', 'action,', 'heights,', 'colors', 'beginning', 'game', 'board', 'Panic', 'players', 'player', 'fall', 'blocks', 'towers.', 'shown', 'Receive', 'towers', 'turn', 'use', 'On', 'turn.'], ['long', '1', 'In', 'The', 'dice,', 'outrageous', 'hilarious', 'Yellow', 'weapons', 'fun!\"', 'hoping', 'Use', 'levels', 'nothing', 'dreadfully', 'played', 'must', 'decks', 'armed', 'hilariously', '\"will', 'small', 'box', 'level', 'water', 'Edition', 'vengeful,', '\"Magic', 'players', 'cards,', 'living', 'quotes,', 'use', 'Starter', '(from', 'Whisk\"', '\"Nuclear', 'NOT', '\"Carrots\"', 'cabbage', '6', 'satirical', 'force', 'cards', '(if', 'Deck),', 'Instructions.', 'many', 'so...)', 'Deck', 'one', 'copy', 'defend', 'keep', 'Collect', 'game.', 'horribly', 'bonus', 'win.', 'game', 'so,', 'possible,', 'stop', '165', 'object:', 'buy', '\"Feed', 'Bunnies,', 'need', 'card', 'roll', '36', 'eliminating', 'higher', 'Epsilon', 'Bunny\"', 'includes', 'randomly', 'Killer', 'Blue', 'table.', 'Booster', 'Warhead\")', 'bunnies', 'Deck.', 'messy,', 'predetermined', 'Bunnies', 'opponents', 'get', 'comes', 'non-collectible,', 'problem:', 'Spatula\"', 'Bunny', \"opponents'\", 'claimed', '12', 'Carrots', 'back', 'winning', 'money', 'funny', 'opponent', 'nasty,', 'game,', '(including', 'Carrot\".', 'alive', 'survive.', '\"Kitchen', 'expandable', 'This', 'new', 'plain', 'bring', 'opponents,', 'twelve-sided', 'Your', 'special', '&'], ['fish?!', 'really', 'easy', 'using', 'able', 'play', 'better', 'simple', 'rid', 'type', 'rich', 'number', 'Game', 'card', 'back', 'The', 'increasing', 'meets', 'best', 'aquariums', \"It's\", 'show', 'complexity', 'Aquarium', 'want', 'numbers.', 'cards', 'needs', 'learn.', 'Description:', 'Acqua', 'minimum', 'plants,', 'Will', 'etc.', 'colours.', 'intensity,', 'resources', 'decorations', 'Dolce', 'make', 'opponents?', 'come', 'strategy.', 'first', 'fish,', 'gold', 'it,', 'winner', 'quick', 'Objective', 'thinking', 'requirements:', 'ornament', 'time', 'game', 'Cards.', 'Or', 'players', 'player', 'get', 'requires', 'maybe', 'colours,', 'improve', 'requirements', 'beautiful', 'These'], ['every', 'Invisibility', 'card', 'The', 'Potter.', 'makes', 'traditional', 'UNO:', 'shout', 'cards', 'except', 'Basically', 'colorful', 'next', 'forfeits', 'played', 'different', 'UNO,', 'charcters', 'Howler', 'Cards', 'command', 'Wild', 'Harry', 'player', '--', 'protection', 'stops', 'items', 'turn.', 'you.'], ['terms', 'score', 'start', 'In', 'along', 'environment', 'Zogen,', 'The', 'wins.', 'a.k.a.', '\"Maru\",', 'played', 'must', 'initial', 'name', 'places', 'ends', 'hand', 'players', 'cards,', 'types', 'points', 'exactly', 'missing', 'microorganism', 'less.', 'rid', 'microorganisms,', 'watching', 'researchers', 'current', 'based', '\"Siri\".', 'want', 'cards', 'Whoever', 'many', 'one', 'played.', 'lay', '0-4', 'previously', 'say', 'face', 'changes,', 'playing', 'When', 'rank', 'round', 'shows', 'differs', 'hold.', 'starts', 'card', 'sixteen', 'detail,', 'thing', 'once,', 'card,', 'three', 'everyone', 'removed', 'microorganisms.', 'hand,', 'lab', 'added', 'quickly', '\"Tsuki\"', 'microorganism,', 'trying', '\"Tsuki\",', 'play', 'named', 'number', 'can,', 'card.', 'match', 'either', 'showing', 'observing', '\"Yama\",', 'Thus,', '\"Maru\"', 'whether', 'You', 'table,', 'plays', 'player', 'rounds', 'agreed-upon', '\"recording\"'], ['settlements,', 'In', 'Grievous,', 'The', 'title', 'around', 'Be', 'Wars-themed', 'Good', 'dice', 'up.', 'settlements', 'tokens:', 'animated', 'choose', 'control,', 'place', 'end', 'Edition', 'optional', 'players', 'build', 'cards,', 'epic', 'Then', '28', 'Republic', 'based', '2', 'instructions.', 'Ventress,', '6', 'Commander', 'buying,', 'Skywalker,', 'torn', 'For', 'pack', 'tray,', 'cites,', 'control', 'travel', 'Monopoly', 'one', 'power', 'here.', 'Rex,', 'even', 'deeds,', 'game', 'excitement.', 'cities', 'properties', 'Tona,', 'side.', '16', '32', 'evil', 'Includes', 'Ahsoka', 'classic', 'collectible', 'Wars', 'galaxy', 'Force', 'add', '8', 'selling', 'renting', 'pitted', 'Sith', 'conflict.', 'spread.', 'Kenobi,', 'Star', 'Jedi', 'Obi-Wan', 'credits,', 'control.', 'General', 'rules', 'Clone', 'board,', \"banker's\", 'battle', 'series.', 'Special', '12', 'Anakin', 'possibly', 'powerful', 'galaxy.', 'First', 'entire', 'board', 'six', 'player', 'hotels,', 'Asajj', 'houses'], ['Boss', '(cards)', 'score', 'gorillas', '(single)', 'live', 'obtain', 'try', 'biggest', 'whole', 'highest', 'gorilla', 'By', 'Kito,', 'They', 'bananas', 'island', 'tough.', 'bunches', 'powerful', 'All', 'small', 'winner.', 'end', 'benefits', 'Kito.', 'game', 'players', 'player', 'playing', 'zoo.', 'points', 'rather', 'isle,', 'With', 'together'], ['puts', 'develop', 'start', 'neighboring', 'punishment?', 'hand.', '10', 'Fief!!!', 'buildings,', 'battles', 'resources.', 'Every', 'constructing', 'enough,', '...', 'creating', 'begin', 'population.', 'provides', 'reward,', 'uncultivated', 'maneuverability.', 'granted', 'worst', 'players', 'professions', 'And', 'allows', 'certain', 'Fiefs', 'Fief!', 'Feudal', 'try', 'population', 'Page:', 'cards', 'phases', 'https://www.giochix.it/scheda.php?item=1417&crowd=0&lingua=0', 'piece', 'you!', 'first', 'abilities,', 'costs', 'game', 'playing', 'years', 'specializing', 'behalf', 'Medievalia', 'card', 'King,', 'amount', 'During', 'Fief', 'army.', 'wanderers!', 'resources', 'service', 'operations', 'kill', 'way:', 'land', 'village', 'become', 'All', 'several', 'strategic', 'comes', 'trying', 'play', 'number', 'adversaries,', 'represents', 'increasing', 'neighbors.', 'Home', 'fought', 'Producing', 'reward', 'powerful', 'Subsequently,', 'hesitate', 'prevail', 'Maybe', 'You', 'player', 'cultivated', 'performed', 'Lord', 'fields', 'produce'], ['entrance', 'move', 'set', 'elements', 'phase,', 'The', 'paths', \"Publisher's\", 'paced,', '5', 'First,', '60', 'RoboRally).', 'strategy', 'path.', 'House', 'choose', 'made', \"player's\", 'haunted', 'perform', 'random', 'players', 'front', 'exit.', 'cards,', 'boardgame', 'custom-sculpted', 'actions', 'constantly', '38', 'sequence', 'action', 'escape', '(somewhat', 'object', 'cards', 'define', 'instance', 'twist.', 'simple,', 'first', 'reach', 'exit', 'After', 'plans.', 'enter', 'edges.', 'wildly', 'Haunting', 'normal', 'game', 'phase.', 'race', 'adding', 'fast', 'opposing', 'reminiscent', 'sounds.', 'that.', 'track', 'card', 'fun,', 'progresses.', 'goal', 'Half', 'Each', 'features', 'During', 'Apart', 'randomly', 'select', 'make', 'opponents.', 'planned', 'bordered', 'floor', 'making', 'things', 'entered.', 'gets', 'actions.', 'two', 'drawn', 'board,', 'Now,', 'Additionally,', 'phases:', 'easy', 'number', 'square', '6x6', 'half', 'pawns.', 'like', 'secretly', \"It's\", 'tiles', 'white', 'plan', 'may', 'throwing', 'laying', 'consists', 'cannot', 'inserted', 'different', 'chosen', 'door', 'change', 'time', 'symbolizing', 'blurb', 'board', 'six', 'house', 'phase', 'player', 'special', 'turn', 'executed,', 'remove', 'also'], ['certain', 'taking', 'Players', 'The', 'best', 'discard', 'pile.', 'cards', 'slowest', 'may', 'hands', 'described', '\"Simon', 'tasks', 'laid', 'given', 'penalized', 'card-driven', 'perform', 'Says.\"', 'empty', 'win.', 'table,', 'game', 'player', 'race', 'speed-based'], ['puts', 'round', 'War', 'play', 'war.', '(occasionally,', '1', 'If', 'piles.', 'card', 'dealt', 'The', 'currently', '2', 'Both', '3', 'sizes.', 'bottom', 'higher', 'value,', '(etc.)', 'deck.', 'modified', 'cards', 'add', 'another', 'up.', 'equal,', 'deck', 'recent', 'decks', 'played', 'different', 'well', '52', 'standard', 'equal', 'three)', 'one', 'takes', 'evenly', 'people', 'place', 'instead', 'table.', 'ends', 'winner', 'themed', 'face-down', 'two', 'top', 'entire', 'face', 'game', 'face-up', 'players', 'player', 'special', 'value', 'rules', 'turn', 'pile.', 'those.', 'table'], ['In', '\"Tales', 'helping', 'Then,', 'The', 'a.k.a.', 'Wolf', 'them;', 'drawing', 'Red', 'second', 'mode,', 'wolf.', 'spot', 'players', 'explained', 'Unlike', 'cards,', 'role', 'try', 'entry', 'tokens', 'Grandmas', 'below.', 'co-operate', \"Grandma's\", 'many', 'one', 'first', 'Games\"', 'Count', 'Riding', 'reach', 'game.', 'youngest', 'game', 'cottage', 'Path', 'flowers', 'To', 'Brain', 'fifth', 'card', 'Rouge,', 'During', 'deck.', 'Le', 'randomly', 'flowers.', 'Chaperon', 'takes', 'wolf', 'flips', 'gets', 'Place', 'Gathering', 'chooses', 'Hood,', 'series.', 'play', 'number', 'start,', 'card.', 'Hood', 'there.', 'characters', 'managed', 'help', 'Gathering.', 'instead', 'This', 'face-down', 'Petit', \"Creations'\", 'Purple', 'house', 'plays', 'player', 'arrives.', '&', 'turn', 'Little'], ['retreat', 'start', 'cant', 'results', 'finally', 'The', 'daylight', 'earned.', 'night,', 'character.', 'nothing', 'spaces', 'begin', 'level', 'strength,', 'turns', 'player.', 'chosen,', 'sixty', 'players', 'points.', 'cards,', 'points', 'defeating', 'actions', 'available', 'experience', 'journeys', 'levels;', 'step', 'tokens', 'Wizard,', 'encounter.', 'one', 'Quest', 'central', 'game.', 'encounters,', 'city', 'rules,', 'determines', 'game', 'Dork', 'ZMindrik', 'possible,', 'lands', '100', 'placed', 'clockwise.', 'loss', 'advance', 'Each', 'higher', 'lower', 'position', 'monsters', 'approached', 'performs', 'land', 'monster', 'sheets,', 'turn,', 'Losing', 'receive', 'two', 'factors', 'movement', 'strategic', 'night.', 'chooses', 'battle', 'ability.', 'map', 'scroll', 'encounters', '3-D', 'returns', 'card.', 'game,', 'kingdoms.', 'ten', 'A', 'characters', 'may', 'assigned', 'player,', 'One', 'different', 'might', 'reward', 'begins.', 'gold', '56', 'character', 'defeat', 'Boxed', 'disks,', 'begins', 'pieces', 'levels.', 'player', 'advances', 'special', 'Tower', 'five', 'win', 'Aurora', 'monster.', 'saved', 'dice.', 'tower,']]\n",
            "[['trying', 'discovered.', 'determine', 'locations', 'escapes.', 'used', '1996,', '(Jessica', 'along', 'Players', 'deduce', 'status', 'The', 'escape', 'he/she', 'dead', 'secretly', 'A', 'randomly', 'order.', 'series', 'Fletcher)', 'ran', 'hit', 'detectives', 'one', 'rest', 'murderer;', 'first', '1984', 'correctly', 'visited', 'This', 'information,', 'witnesses,', 'chosen', 'detective', 'Based', 'murderer', 'identity', 'murderer,', 'player.', 'game', 'board', 'murder', 'CBS', 'long-running', 'murderer.', 'players', 'player', 'five', 'living', 'mark', 'primetime', 'wins', 'witnesses'], ['ways', 'long', 'Kill,', 'feel', 'move', 'time,', 'The', 'ready', 'played', 'must', 'minutes.', 'them.', 'trick', 'following', 'players', 'nobody', 'discretion', 'use', 'actions', 'minutes', 'discovered.', 'embodies', 'police.', 'targets', 'possible', 'pressure', 'anywhere', 'suspects,', 'check', 'apply', 'you!', 'There', 'true', 'one', 'without', 'game', 'choices:', 'blending', '16', 'Kill', 'sometimes', 'Are', 'hitman?', 'goes', 'hitman', 'Each', 'Ten', 'eyes', 'eliminate,', 'players.', 'make', 'secret', 'three', 'guess', 'deduction', \"competitor's\", 'prestigious', 'become', 'targets...and', 'short', 'two', '2-4', \"10'\", \"that's\", 'says', 'board,', 'weigh', \"You'll\", 'hitman!', 'secretly', 'suspicion', 'eliminated,', 'ten', 'characters', '(different', 'eliminate', 'shoulders.', 'As', 'this),', 'character', 'bluff', 'time', 'identity', 'You', 'player', 'maybe', 'crowd', 'how!', 'turn', 'also'], ['really', 'Well,', 'Grandma', 'lateral', 'In', 'movements.', 'mansion', 'Monster', 'together', 'monsters.', 'The', 'best', 'standing', 'push', 'them!', 'possible', 'actually', 'middle', 'frightened', 'movements,', 'thing', 'fun!', 'Whoever', 'make', 'monsters', 'work', 'must', 'one', 'monster', \"monster's\", 'terribly', 'loose', 'But', 'door', 'Trap,', 'teams', 'trap', 'catch', 'controls', 'trap!', 'end', 'game.', 'sees', 'this:', 'You', 'again!', 'game', 'sliders', \"that's\", 'players', 'player', 'front', 'bad', 'living', 'Frieda', 'right', 'longitudinal', 'outside', 'hide', 'quickly', 'use', 'wins', 'catcher', 'pushed'], ['every', 'able', 'play', 'role.', 'start', 'If', 'put', 'card', 'prove', 'dealt', 'popular', 'The', 'Town', 'try', 'bringing', 'Each', 'Kickstarter', 'order', 'During', 'accuse', 'moderator.', 'Evil-doers.', 'got', 'online', 'unique', 'Good', 'survive.', 'innocence.', 'decide', 'lynched', 'make', 'find', 'must', 'card,', 'lynch', 'challenging', 'Salem', 'kill', 'roles', '25', 'one', 'side', 'other.', 'This', 'new', 'works.', 'tells', 'ends', 'accusations', 'Evil', 'change', 'gallows.', 'trial', 'You', 'convince', 'experience.', 'game', 'face', 'murder', \"can't\", 'roles,', 'players', 'tabletop.', 'player', 'day,', 'trust', 'And', 'town,', 'night.', 'remains.', 'Here', 'also', 'With', 'fun.'], ['ruler', 'constant', 'determine', 'Prince', 'In', 'take', 'Escalus', 'all!', 'The', 'formed', 'based', 'story', 'clever', 'act', 'Verona', 'Capulet', 'placement', 'add', 'conflict', 'characters', 'cards', 'heard', 'Verona.', 'influential', 'either', 'thoughtful', 'council', 'help', 'influence', 'quarrel', 'management', 'citizens', 'tired', 'lasting', 'peace', 'exile.', \"We've\", 'As', 'mediate', 'hand', 'agendas', 'end', 'Verona,', 'game.', 'chance', 'rule', 'bring', 'Romeo', 'houses', 'Through', 'region,', 'players', 'Montague.', 'player', 'Council', 'cast', 'victory', 'points', 'upon', 'wins!', 'grown', 'use', 'role', 'Juliet', 'steer', 'tokens,', 'gain'], ['round', 'picture', 'Either', 'type', 'Game', 'working', 'puzzle,', 'teams,', 'The', '36', 'Answer', 'treasure', 'Kids:', 'large-format', 'cards', 'Exit:', 'open', 'presented', 'Jungle', 'different', 'riddles', 'new', 'players', 'ways.', 'shown', 'combined', 'alone', 'Riddles', 'chests.'], ['Santiago', 'Game', 'Play', 'Best', 'The', 'avoiding', 'Contest', 'armies,', 'known', 'dice', 'must', 'minutes.', 'place', 'dice!', 'square),', 'Dice,', 'game)', 'actions', '(with', '(Lord', 'four', 'If', 'Small', 'action', 'tile', '6', 'object', 'activate', '(substrating', 'deploys', 'Cubes,', 'Components:', 'For', '-', 'approximate', 'city,', '2nd', 'one', '1-6', 'game.', 'city', '(city', 'lose.', 'field)', 'win.', 'game', 'squares:', 'cities', 'To', '2014', 'solo', 'world', '15', 'growing', '(your', 'fighting', 'die)', 'armies', '(one', 'conquer', 'Land', 'eternal', 'Solitaire', 'die', '6).', 'battle', 'number', 'square', 'Print', 'duration', '(a', 'Eximeno', 'tiles', '6.', 'point', 'results:', 'different', 'Sized', 'cubes', 'defeated', 'forest', 'Cubes', 'defeat', 'sea,', 'it...', 'You', 'board', 'six', 'player', 'world.', 'Lord', 'army),'], ['draw', 'long', 'unload', 'develop', 'start', 'trades', 'In', 'along', 'move', 'stash.', 'tend', 'black,', 'buildings', 'white,', 'trading', 'chip', 'chips', 'opium', 'provide', 'Singapore', 'small', 'Opium', 'loses', 'lot', 'locations,', 'goods?', 'players', 'build', 'metropolis.', 'points', 'use', 'actions', 'allow', 'certain', 'Stamford', 'locations', 'quite', 'balance', 'take', 'rich', 'If', 'doings.', 'fined', 'criminal', 'outpost', 'inviting', 'legit', 'one', 'bag.', 'resources/VPs/money', 'keep', 'it;', 'cops', 'ownership', 'end,', 'business', 'right', 'wins', 'market', 'resources/VPs/money.', 'round', 'established', 'black', 'connecting', 'profitable,', 'Sir', 'Each', 'carry', 'amount', 'adjacent', 'workers', 'resources', 'find', 'three', 'combination', 'land', 'determining', 'stinging', 'buildings;', 'gets', 'southern', 'catch', 'streets', 'Raffles', 'victory', 'building,', 'dirty', 'better', 'number', 'erect', 'merchants', '1-2', 'locations.', 'Players', 'half', 'Malay', 'aboveboard', 'game,', 'post', 'A', 'Peninsula', 'hands', 'possibility', 'end.', 'building.', 'fewest', 'powerful', 'new', 'building', 'time', 'plots', 'player', 'businesses,', 'tip'], ['ends.', 'The', 'line', 'wins.', '1-9', 'Will', 'character.', 'House', 'zero', 'secret?', 'stay', 'small', 'house.', 'places', 'Living', 'eleventh', 'points.', 'points', 'family.', 'On', 'big', 'arises.', 'house,', 'room', 'characters.', 'whole', 'Rumble', '\"owns\"', 'one', 'first', 'keep', 'game', 'rumble', 'least', 'fight', 'sometimes', 'round', 'Well,', 'able', 'Dungeon', 'bluffing', 'starts', 'Each', 'points,', 'difficult,', 'adjacent', 'third', 'Once', 'contains', 'three', 'really,', 'deduction', 'turn,', 'Integrates', 'twelve', 'remains', 'two', 'collects', 'trouble', 'points;', 'removed', 'alone', 'beat', 'valuable', 'worth', 'remains,', 'removes', \"It's\", 'secretly', 'ten', 'characters', 'either', 'house!', 'different', 'much', 'character', 'time', 'identity', 'inside,', 'house', 'player', 'moves', 'rounds', 'single', 'together'], ['every', 'grid.', '66', 'four', '90,', 'twist', 'The', 'Pentago', 'reimplements', 'option', 'wins.', '4', 'larger', 'marble,', 'known', 'strategy', 'grids', 'abstract', 'well', 'thus', '33', 'one', 'first', 'This', 'arranged', 'twist:', 'After', 'row', 'Connect', 'two', 'game', 'board', 'marbles', 'players', 'placing', 'player', 'get', 'five', 'changing', 'turn.'], ['steak)', 'every', 'King', 'skew', 'four', 'corresponding', 'publisher', 'card', 'The', '(Tomato,', 'Shrimp', 'points,', 'dish', 'Kushi.', 'ten', 'reveals', 'Bacon).', 'middle', 'cards', 'Every', 'Kushi', 'BBQ', '\"order\"', 'fabrics', 'deck', 'deck,', 'ingredient', 'There', 'first', 'can.', 'takes', 'table.', 'cards.', 'serves', 'plastic', 'making', 'Japanese)', 'ends', 'As', 'Pepper,', 'two', 'top', 'collects', '(Cheese', 'game', 'Express', 'successfully', 'soon', '(called', 'player', 'Beef', 'description', 'blocks', 'race', '\"Kushi\"', 'right', 'When', 'quickly', 'prepare'], ['\"bears\"', 'Pick-a-Polar', 'receives', 'start', 'In', 'grabbing', 'survive', 'hand.', 'set', 'attributes', 'Bear,', 'ends.', 'elements', 'The', 'goggles,', 'attributes,', 'complete', 'earns', 'with/without', 'reveals', 'Essen', 'gathered', 'stopped', '\"Stop!\"', 'sea', 'second', 'deck', 'nothing', 'ice', 'out,', 'must', 'collected', 'gameplay', 'made', 'however,', 'answer', 'first,', 'hand', 'shouts', 'player.', 'none', 'shuffle', 'loses', '(If', 'Someone', 'top', 'stacks.', 'changing,', 'prepares', 'Pick-a-Seal', 'players', 'attribute', '\"bonus', 'cards,', 'basic', 'wins!', 'way', 'whoever', 'grid.', 'differ', 'dealer', 'If', 'background,', 'mistake', 'variants.', 'current', 'reason', 'states:', '2', 'determined', 'runs', 'variant,', 'penalty', 'due', 'grab', 'else,', 'large/small,', 'continue', 'cards', 'For', 'correct', 'autumn/blue', 'Whoever', 'check', 'fish', 'travel', 'round\"', 'deck,', 'orange', 'many', 'Bear', 'first', 'one', 'obtained', 'lay', 'keep', 'grid,', 'nanuks', 'way.', 'continues', '\"Pick-a-Polar', 'races', 'bonus', 'face', 'game', 'arm', 'party', 'ways.', 'supply', 'there!', 'combine', 'To', 'stacking', 'When', 'least', 'sitting', 'round', 'shows', 'card', 'someone', 'warming.', 'Each', 'eight', 'If,', 'features', '\"Go!\",', 'preceding', 'deck.', 'North', 'Pick-a-Dog', 'look', 'includes', '8', 'raised', 'Once', 'players.', 'canned', 'variants!', 'looks', 'card,', 'global', 'contains', 'takes', 'everyone', 'Bear!\"', 'Germany', 'identical', 'give', 'forcing', 'arm,', 'extra', 'two', 'good', '2014.', 'points;', \"can't\", \"that's\", 'feature', 'fill', 'grabbed', 'gives', 'comes', 'wrong', 'yells', 'worth', 'grid.)', '\"Pick-a-Seal!\"', 'Players', 'thinks', 'back', 'doggie', 'upraised', 'filling', 'mistakes,', 'card.', '-2', 'game,', '30', 'ten', 'elements.', 'discard', 'fish.', 'diminishing', 'point', 'may', 'round,', 'published', 'launched', 'laying', 'friends', 'Pole', 'next', 'cannot', 'round.', 'Thus,', 'new', 'Sourcing', 'holes', 'winter', 'face-down', 'Formissimo,', 'table,', 'ends,', 'matches', 'player', 'five', 'could', 'keeps', 'fewer', 'yell', 'grid'], ['rivales', '1', 'collections', 'hagan', 'hand)', 'In', 'along', 'objetivos,', 'albricias', 'move', 'set', 'Play', 'The', 'tarea', 'play)', 'fases.', 'alcanzar', 'distintos:', 'mayor', 'campaign', 'acaba.', 'momento', 'posibles,', 'complicado.', 'Phase', 'en', 'han', 'deadly.', 'Good', 'la', 'llevar', 'deck', 'es', 'victoria.', 'work', 'played', 'must', 'modos', 'Resistance', 'enough,', 'annoy', 'hacer', 'ese', 'modes,', 'pronto', 'Contenido:', 'hasta', 'ends', 'ESP:', 'sus', 'Cards', 'are:', 'cazadores', 'out.', 'players', 'points.', 'recover', 'jugar', 'nmero', 'past', 'manual', 'mano)', 'protect', 'se', 'actions', 'available', 'part', 'towards', 'Collection,', '(by', 'At', 'universo', 'ser', 'carta', 'pero', 'de', 'runs', 'Fanhunter', '3', 'aventura', 'ENG:', 'object', 'La', 'campaa', 'objectives,', 'juego', 'cards', 'rellena', 'debes', 'habilidad,', 'Guards.', 'objects', 'Contents:', 'Resistencia.', 'coleccin', 'sobrepasar', 'first', 'Deck', 'one', 'mientras', 'vigilando', 'winner', 'way.', 'relics', 'forman', 'toman', 'que', '143', '(el', 'game', 'aadiendo', 'ganador.', 'soon', 'replenishes', 'basado', 'avanzar', 'almacenar', 'Attack', 'mismo.', 'puntos', 'lo', 'sure', 'guardianes', 'forward', 'mazo', 'despus', 'Fanhunters', 'exclusivos', 'reliquias', 'tan', 'card', 'pueden', 'reglamento', 'relic', 'Store', '(poniendo', 'fighting', 'impedir', 'During', 'look', 'las', 'fase,', 'cabo', 'revelar', 'divisin', 'Searching', 'unique', 'intentar', 'sneak', 'objects.', 'estn', 'protegen.', 'Buscar', 'guards', 'En', 'making', 'turno', 'Ability,', 'actions.', 'ms', 'two', 'El', 'acciones', 'added', 'victory', 'memorabilia', 'tu', 'objetivo', 'tenga', 'ser:', 'putting', 'trying', 'tratan', 'play', 'olvidados', 'los', 'del', 'Players', 'fcil,', 'jugadores', 'recuperar', 'hunters.', 'Reveal', 'game,', 'este', 'objetos', 'intentarn', 'termina', 'may', 'combatir.', 'either', 'series', 'Phases.', 'different', 'forbidden', 'cartas', 'adventure', '(the', 'el', 'cuentan', 'Durante', 'dos', 'juega', 'time', 'colecciones', 'pieces', 'universe,', 'hard', 'Los', 'frikis', 'Stuff', 'ido', 'Card,', 'una', 'casual.', 'turn', 'machacis', 'VP.', 'count', 'parte', 'juego)'], ['tile,', 'tale', 'left,', 'In', 'burned', 'move', 'time,', 'The', 'left', 'them,', 'fairy', 'still', 'step.', 'must', '(or', 'visible', 'shredded', '(preferably', 'Play:', 'players', 'books.', 'others', 'enchanted', 'At', 'matching', 'If', 'collect', 'king', '(but', 'Goal:', 'possible', 'sheets', 'tiles.', 'garden,', 'Only', 'tales).', 'many', 'tiles).', 'one', 'finishes', 'move,', 'lose.', 'hurry', 'Story:', 'visible,', 'evil', 'book', 'garden', 'track,', 'scattered', 'pawn', 'tale.', 'addition,', 'adjacent', 'find', 'three', 'leave', 'two', \"can't\", 'An', 'garden.', 'case,', 'tales', 'gate', 'Now', 'tiles', 'may', 'returns.', 'pieces,', 'all),', 'rows', 'pages', 'match,', 'hidden', 'player', 'turn', 'moves'], ['big', 'palaces.', 'four', 'castles.', 'erect', 'The', 'bonuses.', 'cleverly', 'Two', 'Schmidt', 'Burgen', 'rewarded', 'wells,', 'buildings', 'confused', 'cards', 'By', 'Land', 'profitable', 'collecting', 'first', 'claim', 'places', 'manages', 'game.', 'building', 'limited', 'players', 'Spiele.', 'player', 'build', 'compete', 'Not', 'houses', 'wins'], ['unholy', 'damage', 'wield', 'publisher', 'card-based', 'Now', 'moment!', 'The', 'careful,', 'seriously', 'result', 'vindictive', 'friends.', 'bunch', 'pigs...', 'cards', 'written', 'Oh,', 'What', 'anywhere', 'embody', 'BaRPiG', 'highly', 'friends', '-', 'started', 'since', 'make', 'stand', 'control', 'puns', 'perfect', 'Imagine', 'one', 'power', 'powerful', 'mostly', 'otherwise', 'threaten', 'competitive', 'keep', 'This', 'everywhere.', 'But', 'role-playing', 'become', 'item', 'games', 'challenge', 'change', 'character', 'embarrass', 'hero', 'silly', 'party.', 'hobby.', 'game', 'portable', 'system', 'ridiculous', 'napkin', 'could', 'description', 'leveling', 'combine', 'night', 'anyone,', 'fun', 'bar'], ['uses', 'ways', 'feel', 'quickly.', '10', 'invent', 'inventiveness,', 'elements', 'Play', 'right,', 'left', 'The', 'story', 'solve', 'easy,', 'imagination,', '\"Once', 'problems,', 'Fit', 'break', 'drama', '54', 'answer', 'share.', \"writer's\", 'narrative.', 'mixed', 'random', 'examine', 'humor.', 'ability', 'meanings', 'unifying', 'upon', 'points', 'use', 'part', '3x3', 'element', 'off.', 'block,', 'thousands', '3', 'square.', '6', 'heighten', 'themes', 'imagination', 'possible', 'images.', 'Interpret', 'another', 'practically', 'one', 'instructions', 'images', 'row', 'Story', 'Full', 'cube', 'jumbo', 'game', 'contributes', 'sides', 'ways.', 'party', 'dancing.', 'mind-stretching.', '9', 'more.', 'brain', 'last', 'all-different', 'speedy', 'among', 'challenge:', 'starts', 'puzzle,', 'time...\"', 'roll', 'fun,', 'identify', 'choices,', 'Each', 'icons,', 'million', 'answers', 'work-out.', 'find', 'three', 'Explain', 'total', 'Win', 'give', 'combinations.', 'improv', 'award', 'picking', 'several', 'Or', 'get', 'hand-inlaid', 'More', 'really', 'play', 'tops', 'Now', 'something', \"You'll\", \"It's\", 'delivery,', 'include', 'diverse', 'Do', 'may', \"Rory's\", 'players,', 'cubes', 'As', 'challenge', 'Cubes', 'rows.', 'You', 'story,', 'generate', 'player', 'enhance', '1\"', 'turn', 'common.'], ['draw', 'traded', 'In', 'indicates', 'set', 'The', 'left', 'indispensable.', 'crack', 'appropriate', 'simultaneously', 'ready', 'must', 'gameplay', 'however,', 'place', 'players', 'cards,', 'fast-paced:', 'allow', 'part', 'missing', 'allows', 'hourglass', 'At', 'If', 'turned', 'becomes', 'Storing', 'earn', 'seconds.', 'cards', 'another', 'neighbors', 'level.', 'Jokers', 'over,', 'game', 'soon', 'compete', 'right', 'constructed', 'code', 'shows', 'filled', 'starts', 'card', 'goal', 'Each', 'field.', 'space,', 'Once', 'time.', 'three', 'cooperatively', 'earning', '#', 'extra', 'hand,', '*.', 'cracking', 'freely,', 'valuable', 'play', 'number', 'including', 'encrypted', 'Players', 'arrow', 'like', 'however.', 'square,', 'card.', 'order', 'game,', 'discard', 'cracked', 'may', 'passed', 'either', 'beginning,', 'equal', 'cards.', 'As', 'replace', 'time', 'whether', 'X-Code,', 'board', 'player', 'win', 'return', 'exchange', 'neighbor', 'turn', 'suitable', 'fields', 'together'], ['metal', 'move', 'Ravensburger', 'Verlag', 'double', 'rest', 'Prix).', 'Bertelsmann', 'reportedly', '(see', 'Grand', 'graphics', 'Buchclub', 'player.', 'horse', 'players', 'Jockey', 'allow', 'Spielkarten.', '2001', 'certain', 'and/or', 'four', 'horses,', 'early', '2', 'remained', 'winner,', '3', 'spaces;', '6', 'cards', 'version', 'originally', 'Berliner', 'There', 'one', 'played.', 'second-place', 'Casino', 'Corsa', '1993,', 'Tris', 'Otto', 'Italian', 'game', 'race', '1976', 'Some', 'exists', 'editions', 'compilation', 'card', 'state', 'Each', 'specific', 'Components', 'versions', 'horse,', 'position', 'players.', 'Maier', 'moved', 'card-driven', 'unchanged.', 'marketed', '1970s', 'horses', '(some', 'rules', 'movement', 'changed', 'number', 'secretly', 'game,', 'two.', 'A', 'Series.', 'releases', 'either', 're-release', 'published', 'felt', 'bet', '&', '\"boards\"),', 'also'], ['gold.', 'weaknesses', 'long', 'evaluating', 'Players', 'saga', 'The', 'winning', 'try', 'calm,', 'weapons,', 'game,', 'strengths', 'continues.', 'signs', 'Cartagena', 'first', 'side', 'gold', 'equip', 'After', 'end', 'players', 'mutiny.'], ['stack', 'job', 'all!', 'mystery.', 'cunning', 'biggest', 'evident', 'lead', 'throw', 'weapons,', 'clans', 'weapons', 'Use', 'getting', 'noble', 'decide', 'must', 'life', 'becoming', 'team', 'deployment', 'strategy...', 'trail', 'facets', 'shinobi', 'players', 'Shinobi', 'way', 'actions', 'death', '3-5', 'ambition,', 'final', 'Clans', \"enemy's\", 'leaders,', 'motivations', 'shrouded', 'targets', 'smoke', 'feared', 'missions', 'mechanism', 'unit', 'disrupt', 'rewards', 'Muster', 'master,', 'assassins,', 'plans.', 'ninjas', 'clears,', 'game', 'ruthless', 'arm', 'warfare:', 'least', 'prosperous', 'When', 'skilled', 'clan', 'card', 'dangerous', 'uncover', 'drafting.', 'hope', 'deadliest', 'select', 'Position', 'players.', 'secret', 'skill', 'tactically', 'opposition.', 'master', 'strategic', \"clans'\", 'Can', 'daimyos', 'promise', 'spies', 'advantage', 'outwit', 'Until', 'ronin,', 'prevail?', 'reveal,', 'devise', 'Secretly', 'powerful', 'ninja', 'Recruit', 'As', 'rivals', 'shoguns.', 'plans', 'done?', 'schemes,', \"clan's\", 'suitable'], ['draw', 'tile,', 'receives', '1', 'long', 'score', 'form', 'squares', 'In', 'supported', 'awkward', 'positions,', 'set', 'tile.', 'places,', 'The', 'smarter', 'line', 'slightly', 'store', 'formed,', 'crates,', 'pile', 'sit', '2-player', 'sudden', 'point,', 'yellow', 'Tiles', 'stuffed', 'stacks', 'dealers', 'up.', 'Fast', 'label', 'games.', 'must', 'break', 'arrangement', 'nicely', 'groups.', 'chips', 'business.', 'place', 'preserve', \"There's\", 'spices', 'visible', 'Dschunke,', 'instantly', 'small', 'turns', 'end', 'graphics', 'trick', 'minds.', 'problems', 'top', 'created', 'players', 'points.', 'risk', 'build', 'rats.', 'types', 'points', 'exactly', 'use', 'storehouse', 'real', 'aus', 'death', 'tricky.', '1x3', 'addition', 'here,', 'four', 'take', 'If', '2', 'tile', 'best', 'finish', 'Dschunke:', 'owning', 'clever', 'Michael', 'groups', 'square.', 'Hot', 'high', 'want', 'giving', 'unlucky', 'replay', 'nearly', 'mechanism', 'layout.', 'mental', 'Stack', \"opponent's\", 'tiles.', 'obscure', 'placed,', 'one', '3x1', 'keep', 'underneath.', 'wood', 'But', 'Beware!', 'leading,', 'play,', 'lose.', 'rules,', 'spend', 'game', 'two-player', 'face', \"Queen's\", 'crates.', 'simply', 'stacking', 'parts', 'least', 'When', 'fun', 'you.', 'differs', 'more.', 'Many', 'spice', 'perhaps', 'low', 'placed', 'exposed', 'set.', 'fun,', 'choices,', 'Each', 'everything', 'Rat', 'show', 'group', 'is,', 'add', 'Hot,', 'adjacent', 'hungry', 'avoid', 'fairly.', \"Schacht's\", 'make', 'Queen.', 'showing.', 'covered.', 'three', 'counts.', 'Legespiel', 'combination', 'Spiel', 'table.', 'All', 'exhausted', 'grey', 'turn,', 'dare', 'impossible', 'give', 'games', 'leave', 'placement.', 'less', 'two', 'empty', 'good', 'large', 'bay.', 'quick,', 'get', 'another,', 'rules', 'das', 'quickly', 'comes', 'changed', 'scored', 'trying', 'easy', 'Can', 'number', 'put', 'rats', 'opponent', 'Two', 'groups?', 'see', 'open,', 'tiles', 'Do', 'tricky', 'together,', 'Whenever', 'Das', 'upper', 'may', 'Timbuktu,', 'Tricky', 'published', 'represent', 'colours.', 'draws,', 'next', 'existing', 'different', 'tiles,', 'players,', 'going', 'developed', 'offset,', 'made,', 'challenge', 'rats,', 'time', 'You', 'board', 'value.', 'know', 'plays', 'player', 'cover', 'always', 'maybe', 'pile,', 'colour', 'turn', 'moves', 'share', 'well.', 'puzzle', 'scoring', 'also', 'distribution'], ['resources,', '1803).', 'games,', 'Kings,', 'fleet,', 'Spain', 'enemies', 'appear.', 'level', 'Emperor', 'Kutusov', 'players', 'Kurdistan', 'high.', 'Russian', 'expansion', 'others', 'allow', 'call', 'invaded,', 'Bayrakdar', 'Kings', 'determined', 'Sultan', 'Gravina', 'largest', 'smaller', 'many,', 'They', 'There', 'Imperial', 'stretches', 'adore', 'But', 'game.', 'play),', 'game', 'playing', 'Napoleon,', 'able', 'Prince', 'outstanding', 'Italy', 'Wars', 'promoted.', 'trade,', 'deploy', 'rated', 'chronically', 'expected', 'advantages:', 'position', 'resources', 'income', 'Wellington', 'two', 'Austrian', 'Charles)', 'France', 'movement', 'back.', 'secure', 'economy,', 'worry', '(Frimont)', 'history.', 'number', 'plus', 'interest', 'second-rate', 'page:', 'history', 'order', 'advantage', 'junior', 'minor', 'leadership,', 'vast', 'fought', 'generalship', 'economy', 'starting', '(Etruria,', 'strategy.', 'much', 'powerful', 'replace', 'brought', 'Europe,', 'Norway.', 'ways', 'From', '\"back', 'along', 'move', 'thwart', 'lead', '(Collingwood', 'armies,', 'played', 'Card', 'rest', 'begin', 'Britain', 'French', 'good,', 'mediocre', 'strong', 'prince', 'potential', 'And', 'target', 'Ebubekir', 'four', 'Kamensky', 'best', 'Austria', 'enemies.', 'door.\"', 'quick', 'threatened', 'plans.', 'command', 'wrinkles', 'weak', 'thick', 'Spanish', 'least', 'right', 'low', 'fine', 'emperor', 'conquer', 'marker', 'somewhat', 'territory', 'Senyavin', 'area,', 'receive', 'operate', 'action,', 'Persia,', 'large', \"can't\", 'Mirza.', 'couple', 'Ali', 'play', 'painted', 'like', 'playable', 'this.', 'leader,', 'Jervis)', 'two.', 'Crown', 'sea.', 'fleet.', 'Napoleonic', 'relatively', 'lost.', 'cards.', 'hours,', 'players,', 'This', 'Turkish', 'Africa', 'divided', 'time', 'bring', 'potential,', 'hard', 'inspire', 'Europe', 'fewer', 'anyone', 'taking', 'Emperor.', 'manpower', 'Turks.', 'twice', \"Mohammed's\", 'slim', 'strategies', 'campaign', 'willing', 'base,', \"Prussia's\", 'hold', 'must', 'well', 'small,', 'web', \"player's\", 'small', 'Banner', 'lot', 'combat', 'Russians', 'Unlike', 'excellent', 'rather', 'Duke', 'covers', 'fair', 'final', 'action', 'hard-mounted', \"publisher's\", 'diplomacy,', 'initiative,', 'Seyit', 'another', 'many', 'first', 'lost', 'period', 'beaten', 'player-controlled', 'generals', 'fast', 'need', '(an', 'war', 'North', 'event', 'appeared', 'army.', 'contains', 'short', 'games', 'furious,', 'flank', 'several', 'access', 'Baghdad', 'shown', 'surrounded', 'army', 'losses', 'Selim', 'map', 'flag', 'Leadership', 'replace.', 'lasts', 'boards', 'lesser', 'A', 'pieces,', 'can.', 'connect', 'Russia,', 'area', 'chance', 'As', 'change', 'forces.', 'pieces', 'generals,', 'value.', '(Yorck', 'late', 'also', 'revolutionary', 'edge', 'Play', 'drives', 'The', 'areas,', 'empire', 'ancient', '1803-1815.', 'Turks', 'army,', 'poor', 'countries', 'huge', 'Nelson.', 'area.', 'leadership', 'admiral.', 'Guard.', 'battle)', 'way', 'seven', 'using', 'Granada,', 'If', 'improves', 'forces', 'guerrillas', 'cash', 'object', 'cards', 'Persians', 'Taking', 'offset', 'reach,', 'overseas', 'Persia', 'easily', 'true', 'held', 'one', '(Archduke', 'overthrown', 'Blcher)', 'country,', 'regions', '165', 'Abbas', 'advantages', 'excitement', 'Soldier', 'longer.', 'card', 'Armies', 'Prophet,', 'eastern', 'well:', 'defense', 'difficult', '64', 'disadvantages', 'make', 'land', 'fleet', 'weak,', 'things', \"country's\", 'probably', 'routes', 'good', 'board,', 'Prussia', 'every', \"Turkey's\", 'course', 'simple', 'general', \"opponents'\", 'submission).', '(in', \"France's\", '(Radetzky)', 'wargame,', '180', 'resolve', 'troops.', 'liked', 'player', 'admirals', 'Lord', 'border'], ['would', 'Many', 'rulers', 'four', 'various', 'bury', 'pirate', 'set', 'merchant', 'seas?', 'tried', 'illustrious', 'rowboat', 'eventually', 'attacked', 'there.', 'Treasure,', 'treasure', 'unravel', 'ancient', 'Afterwards', 'add', 'Martinique.', 'anchor', 'Will', 'ship', 'great', 'island', 'objects', 'vessels,', 'find', 'succeeded', 'stolen', 'jewels,', 'sunk', 'confiscated', 'name', 'After', 'morning,', 'ships.', 'loads', 'brought', 'You', 'captain', 'pirates', 'legend', 'far.', 'buried', 'says', 'loyal', 'An', 'Treasure.', 'heading', 'coins', 'Pirates', 'nobody', 'dropping', 'Lost', 'seven', 'towards', 'list'], ['cars', 'long', 'start', 'toy', 'along', 'In', 'avoids', 'move', 'engines...I', 'laps', 'The', 'car', 'played', 'must', 'begin', 'let', 'hand', \"Let's\", 'Spring', 'players', 'sweet', 'use', 'motors', 'If', 'track.', 'winding', 'based', 'finish', 'makes', 'rising', 'squeaking', 'Other', 'rounds,', 'cards', 'spring.', 'working!', 'springs', 'control', 'travel', 'wind', 'first', 'rally', 'trick,', 'racing', 'game.', 'boost', 'win.', 'race!', 'game', 'wrong.', 'stop', 'wins', 'forward', 'Instead', 'dust', 'track', 'card', 'advance', 'spring', 'lowest', 'Welcome', 'roaring.', 'rally!', 'roll!', 'three', 'things', 'later', 'go', 'two', 'circles', 'gain', 'play', 'mechanisms.', 'times', 'number', 'trick.', 'winning', 'see', 'lasts', 'No', \"It's\", 'Rally,', 'spring,', 'needed,', 'round,', 'mean...wind', 'person', 'never', 'trick-taking', 'help', 'round.', 'up,', 'much', 'little', 'run', 'As', 'chance', 'time', 'You', 'player', 'win']]\n",
            "7124 2744 2603\n"
          ]
        }
      ],
      "source": [
        "###########################\n",
        "## READ IN TRAINING DATA ##\n",
        "###########################\n",
        "nltk.download('stopwords')\n",
        "\n",
        "stops = stopwords.words('english')\n",
        "stops.extend([\",\", \".\", \"!\", \"?\", \"'\", '\"', \"I\", \"i\", \"n't\", \"'ve\", \"'d\", \"'s\"])\n",
        "\n",
        "allwords = []\n",
        "\n",
        "# creating lists for each sentiment\n",
        "poswords = []\n",
        "neuwords = []\n",
        "negwords = []\n",
        "one_hot_y = []\n",
        "integer_y = []\n",
        "\n",
        "#probably should change the names because X_train is used later\n",
        "for i in range(len(X_pretrain)):\n",
        "  desc = X_pretrain[i]\n",
        "  sentiment = y_pretrain[i]\n",
        "  toextend = []\n",
        "  words = desc.rstrip().split()\n",
        "  toextend.extend(list(set([w for w in words if not w in stops])))\n",
        "  allwords.extend(list(set(toextend)))\n",
        "  if sentiment==-1:\n",
        "    negwords.append(list(set(toextend)))\n",
        "    integer_y.append(0)\n",
        "    one_hot_y.append([1,0,0])\n",
        "  elif sentiment==0:\n",
        "    neuwords.append(list(set(toextend)))\n",
        "    integer_y.append(1)\n",
        "    one_hot_y.append([0,1,0])\n",
        "  else:\n",
        "    poswords.append(list(set(toextend)))\n",
        "    integer_y.append(2)\n",
        "    one_hot_y.append([0,0,1])\n",
        "\n",
        "print(poswords[:25])\n",
        "print(negwords[:25])\n",
        "print(neuwords[:25])\n",
        "print(len(poswords),len(neuwords),len(negwords))"
      ]
    },
    {
      "cell_type": "code",
      "execution_count": 38,
      "metadata": {
        "id": "xnFZ-DJi-w9m"
      },
      "outputs": [],
      "source": [
        "## Get the 1000 most frequent words\n",
        "## These will be your features\n",
        "wfreq = FreqDist(allwords)\n",
        "top1000 = wfreq.most_common(1000)\n",
        "\n",
        "training = []\n",
        "traininglabel = []\n",
        "balanced_training = []\n",
        "balanced_traininglabel = []\n",
        "# Take each review, and create a feature vector.\n",
        "# For each word in the top1000, if that review contains\n",
        "# that word, set its vector value to 1; otherwise 0.\n",
        "count = 0\n",
        "for p in poswords:\n",
        "    vec = []\n",
        "    for t in top1000:\n",
        "        if t[0] in p:\n",
        "            vec.append(1)\n",
        "        else:\n",
        "            vec.append(0)\n",
        "    if count <=2500:\n",
        "      balanced_training.append(vec)\n",
        "      balanced_traininglabel.append([0,0,1])\n",
        "      count+=1\n",
        "    training.append(vec)\n",
        "    traininglabel.append(1)\n",
        "\n",
        "count = 0\n",
        "for n in negwords:\n",
        "    vec = []\n",
        "    for t in top1000:\n",
        "        if t[0] in n:\n",
        "            vec.append(1)\n",
        "        else:\n",
        "            vec.append(0)\n",
        "    if count <=2500:\n",
        "      balanced_training.append(vec)\n",
        "      balanced_traininglabel.append([1,0,0])\n",
        "      count+=1\n",
        "    training.append(vec)\n",
        "    traininglabel.append(0)\n",
        "\n",
        "count = 0\n",
        "for n in neuwords:\n",
        "    vec = []\n",
        "    for t in top1000:\n",
        "        if t[0] in n:\n",
        "            vec.append(1)\n",
        "        else:\n",
        "            vec.append(0)\n",
        "    if count <=2500:\n",
        "      balanced_training.append(vec)\n",
        "      balanced_traininglabel.append([0,1,0])\n",
        "      count+=1\n",
        "    training.append(vec)\n",
        "    traininglabel.append(-1)"
      ]
    },
    {
      "cell_type": "code",
      "execution_count": 39,
      "metadata": {
        "id": "3FrkeHzo-w9m",
        "colab": {
          "base_uri": "https://localhost:8080/"
        },
        "outputId": "6b7a8557-b64e-488a-97cc-a2a5af2608c0"
      },
      "outputs": [
        {
          "output_type": "stream",
          "name": "stdout",
          "text": [
            "12471\n",
            "1000\n",
            "[1, 0, 1, 1, 1, 1, 1, 0, 1, 0, 0, 1, 1, 0, 0, 0, 0, 0, 0, 0, 0, 0, 0, 0, 0, 0, 0, 0, 0, 0, 0, 0, 0, 0, 1, 0, 0, 0, 0, 0, 0, 0, 0, 0, 0, 0, 0, 0, 0, 0, 0, 0, 0, 0, 0, 0, 0, 0, 0, 0, 0, 0, 0, 0, 0, 0, 0, 0, 0, 0, 0, 0, 0, 0, 0, 0, 0, 1, 0, 0, 0, 0, 0, 0, 0, 0, 0, 0, 0, 0, 0, 0, 0, 0, 1, 0, 0, 0, 1, 0, 0, 0, 0, 0, 0, 0, 0, 0, 0, 0, 0, 0, 0, 0, 0, 0, 0, 0, 0, 0, 0, 0, 0, 0, 0, 0, 0, 0, 0, 0, 0, 0, 0, 0, 0, 0, 0, 1, 0, 0, 0, 0, 0, 0, 0, 0, 0, 0, 0, 0, 0, 0, 0, 1, 0, 0, 0, 0, 0, 0, 0, 0, 0, 0, 0, 0, 0, 0, 0, 0, 0, 0, 0, 0, 0, 0, 0, 0, 0, 0, 0, 0, 0, 0, 0, 0, 0, 0, 0, 0, 1, 0, 0, 0, 0, 0, 0, 0, 0, 0, 0, 0, 0, 0, 0, 0, 0, 0, 0, 0, 0, 0, 0, 0, 0, 0, 0, 0, 0, 0, 0, 0, 0, 0, 0, 0, 0, 0, 0, 0, 0, 0, 0, 0, 0, 0, 0, 0, 0, 0, 0, 0, 0, 0, 0, 0, 0, 0, 0, 0, 0, 0, 0, 0, 0, 0, 0, 0, 0, 0, 0, 0, 0, 0, 0, 0, 0, 0, 0, 0, 0, 0, 0, 0, 0, 0, 0, 0, 0, 0, 0, 0, 0, 0, 0, 0, 0, 0, 0, 0, 0, 0, 0, 0, 0, 1, 0, 0, 0, 0, 0, 0, 0, 0, 0, 0, 0, 0, 0, 0, 0, 0, 0, 0, 0, 0, 0, 0, 0, 0, 0, 0, 0, 0, 0, 0, 0, 0, 0, 0, 0, 0, 0, 0, 0, 0, 0, 0, 0, 0, 0, 0, 0, 0, 0, 0, 0, 0, 0, 0, 0, 0, 0, 0, 0, 0, 0, 0, 0, 0, 0, 0, 0, 0, 0, 0, 0, 0, 0, 0, 0, 0, 0, 0, 0, 0, 0, 0, 0, 0, 0, 0, 0, 0, 0, 0, 0, 0, 0, 0, 0, 1, 0, 0, 0, 0, 0, 0, 0, 0, 0, 0, 0, 0, 0, 0, 0, 0, 0, 0, 0, 0, 0, 0, 0, 0, 0, 0, 0, 0, 0, 0, 0, 0, 0, 0, 0, 0, 0, 0, 0, 0, 0, 0, 0, 0, 0, 0, 0, 0, 0, 0, 0, 0, 0, 0, 0, 0, 0, 0, 0, 0, 0, 0, 0, 0, 0, 0, 0, 0, 0, 0, 0, 0, 0, 0, 0, 0, 0, 0, 0, 0, 0, 0, 0, 0, 0, 0, 0, 0, 0, 0, 0, 0, 0, 0, 0, 0, 0, 0, 0, 0, 1, 0, 0, 0, 0, 0, 0, 0, 0, 0, 0, 0, 0, 0, 0, 0, 0, 0, 0, 0, 0, 0, 0, 0, 0, 0, 0, 0, 0, 0, 0, 0, 0, 0, 0, 0, 0, 0, 0, 0, 0, 0, 0, 0, 0, 0, 0, 0, 0, 0, 0, 0, 0, 0, 0, 0, 0, 0, 0, 0, 0, 0, 0, 0, 0, 0, 0, 0, 0, 0, 0, 0, 0, 0, 0, 0, 0, 0, 0, 0, 1, 0, 0, 0, 0, 0, 0, 0, 0, 0, 0, 0, 0, 0, 0, 0, 0, 0, 0, 0, 0, 0, 0, 0, 0, 0, 0, 0, 0, 0, 0, 0, 0, 0, 0, 0, 0, 0, 0, 0, 0, 1, 0, 0, 0, 0, 0, 0, 0, 0, 0, 0, 0, 0, 0, 0, 0, 0, 0, 0, 0, 0, 0, 0, 0, 0, 0, 0, 0, 0, 0, 0, 0, 0, 0, 0, 0, 0, 0, 0, 0, 0, 0, 0, 0, 0, 0, 0, 0, 0, 0, 0, 0, 0, 0, 0, 0, 0, 0, 0, 0, 0, 1, 0, 0, 0, 0, 0, 0, 0, 0, 0, 0, 0, 0, 0, 0, 0, 0, 0, 0, 0, 0, 0, 0, 0, 0, 0, 0, 0, 0, 0, 0, 0, 0, 0, 0, 0, 0, 0, 0, 0, 0, 0, 0, 0, 0, 0, 0, 0, 0, 0, 0, 0, 0, 0, 0, 0, 0, 0, 0, 0, 0, 0, 0, 0, 0, 0, 0, 0, 0, 0, 0, 0, 0, 0, 0, 0, 0, 0, 0, 0, 0, 0, 0, 0, 0, 0, 0, 0, 0, 0, 0, 0, 0, 0, 0, 0, 0, 0, 0, 0, 0, 0, 0, 0, 0, 0, 0, 0, 0, 0, 0, 0, 0, 0, 0, 0, 0, 0, 0, 0, 0, 0, 0, 0, 0, 0, 0, 0, 0, 0, 0, 0, 0, 0, 0, 0, 0, 0, 0, 0, 0, 0, 0, 0, 0, 0, 0, 0, 0, 0, 0, 0, 0, 0, 0, 0, 0, 0, 0, 0, 0, 0, 0, 0, 0, 0, 0, 0, 0, 0, 0, 0, 0, 0, 0, 0, 0, 0, 0, 0, 0, 0, 0, 0, 0, 0, 0, 0, 0, 0, 0, 0, 0, 0, 0, 0, 0, 0, 0, 0, 0, 0, 0, 0, 0, 0, 0, 0, 0, 0, 0, 0, 0, 0, 0, 0, 0, 0, 0, 0, 0, 0, 0, 0, 0, 0, 0, 1, 0, 0, 0, 0, 0, 0, 0, 0, 0, 0, 0, 0, 0, 0, 0, 0, 0, 0, 0, 0, 0, 0, 0, 0, 0, 0, 0, 0, 0, 0, 0, 0, 0, 0, 0, 0, 0, 0, 0, 0, 0, 0, 0, 0, 0, 0, 0, 0, 0, 0, 0, 0, 0, 0, 0, 0, 0, 0, 0, 0, 0, 0, 0, 0, 0, 0, 0, 0, 0, 0, 0, 0, 0, 0, 0, 0, 0, 0, 0, 0, 0, 0, 0, 0, 0, 0, 0, 0, 0, 0, 0, 0, 0, 0, 0, 0, 0, 0]\n",
            "1\n"
          ]
        }
      ],
      "source": [
        "print(len(traininglabel))\n",
        "print(len(training[0]))\n",
        "print(training[0])\n",
        "print(traininglabel[0])"
      ]
    },
    {
      "cell_type": "code",
      "execution_count": 40,
      "metadata": {
        "id": "zgnNnMwF-w9m",
        "colab": {
          "base_uri": "https://localhost:8080/"
        },
        "outputId": "39f4bd1a-83b0-4d06-8767-36e7eb3532b9"
      },
      "outputs": [
        {
          "output_type": "stream",
          "name": "stdout",
          "text": [
            "3118\n",
            "1000\n",
            "[1, 1, 1, 1, 1, 1, 1, 0, 0, 0, 0, 0, 0, 1, 1, 0, 0, 0, 0, 0, 1, 1, 0, 0, 1, 0, 1, 0, 0, 0, 0, 0, 0, 0, 0, 0, 0, 0, 0, 0, 0, 0, 1, 0, 0, 0, 0, 0, 0, 1, 0, 1, 0, 0, 0, 0, 1, 0, 0, 0, 0, 0, 1, 1, 0, 1, 0, 0, 0, 1, 0, 0, 0, 0, 0, 1, 0, 0, 0, 0, 0, 0, 0, 0, 0, 1, 1, 0, 0, 0, 0, 0, 0, 0, 1, 0, 0, 0, 0, 0, 0, 0, 0, 1, 0, 0, 1, 0, 1, 0, 0, 0, 1, 0, 0, 0, 0, 0, 0, 0, 0, 0, 0, 0, 0, 0, 0, 0, 0, 0, 0, 0, 0, 0, 0, 0, 0, 0, 0, 0, 0, 1, 0, 0, 0, 0, 0, 0, 0, 0, 0, 0, 0, 0, 0, 0, 0, 0, 0, 0, 1, 0, 0, 0, 0, 0, 0, 0, 0, 0, 0, 0, 0, 0, 0, 0, 0, 0, 0, 0, 0, 0, 1, 0, 0, 0, 0, 0, 0, 0, 0, 0, 0, 0, 0, 0, 0, 0, 1, 0, 0, 0, 0, 0, 0, 0, 0, 0, 0, 0, 0, 1, 0, 0, 0, 0, 0, 0, 0, 0, 0, 0, 0, 0, 0, 0, 0, 0, 0, 0, 0, 0, 0, 0, 0, 0, 1, 0, 0, 0, 0, 0, 0, 0, 0, 0, 0, 0, 0, 0, 0, 0, 0, 0, 0, 0, 0, 0, 0, 0, 1, 0, 0, 0, 0, 0, 0, 0, 0, 0, 0, 0, 0, 0, 0, 0, 0, 0, 0, 0, 0, 0, 0, 0, 0, 0, 0, 0, 1, 0, 0, 1, 0, 0, 0, 0, 0, 0, 0, 0, 0, 0, 0, 0, 0, 0, 0, 0, 0, 0, 0, 0, 0, 0, 1, 0, 0, 0, 0, 0, 0, 0, 0, 0, 0, 0, 0, 0, 0, 0, 0, 0, 0, 0, 0, 0, 0, 0, 0, 0, 0, 0, 0, 0, 0, 0, 0, 0, 0, 0, 0, 0, 0, 0, 0, 0, 0, 0, 0, 0, 0, 0, 0, 0, 0, 0, 0, 0, 0, 0, 0, 0, 0, 0, 0, 0, 0, 0, 1, 0, 0, 0, 0, 0, 0, 0, 0, 0, 0, 0, 1, 0, 0, 0, 0, 0, 0, 0, 0, 0, 0, 0, 0, 0, 0, 0, 0, 0, 0, 0, 0, 0, 0, 0, 0, 0, 0, 0, 1, 0, 0, 0, 0, 0, 0, 0, 0, 0, 0, 0, 0, 0, 0, 0, 0, 0, 0, 0, 0, 0, 0, 0, 0, 0, 0, 0, 0, 0, 0, 0, 0, 0, 0, 0, 0, 1, 0, 0, 0, 0, 0, 0, 0, 0, 0, 0, 0, 0, 0, 0, 0, 0, 0, 0, 0, 0, 0, 0, 0, 0, 0, 0, 0, 0, 0, 0, 0, 0, 0, 0, 0, 0, 0, 0, 0, 1, 0, 0, 0, 0, 0, 0, 0, 0, 0, 1, 0, 0, 0, 0, 0, 0, 0, 0, 0, 0, 0, 0, 0, 0, 0, 0, 0, 0, 0, 0, 0, 0, 0, 0, 0, 0, 0, 0, 0, 0, 0, 0, 0, 0, 0, 0, 0, 0, 0, 0, 0, 0, 0, 0, 0, 0, 0, 1, 0, 0, 0, 0, 0, 0, 0, 1, 0, 0, 0, 0, 0, 0, 0, 0, 0, 0, 0, 0, 0, 0, 0, 0, 0, 0, 0, 0, 0, 0, 0, 0, 0, 0, 0, 0, 0, 0, 0, 0, 0, 0, 0, 0, 0, 0, 0, 0, 0, 0, 0, 0, 0, 0, 0, 0, 0, 0, 0, 0, 0, 0, 0, 0, 0, 0, 0, 0, 0, 0, 0, 0, 0, 0, 1, 0, 0, 0, 0, 0, 0, 0, 0, 0, 0, 0, 0, 0, 0, 0, 0, 1, 0, 1, 0, 0, 1, 0, 0, 0, 0, 0, 0, 0, 0, 0, 0, 0, 0, 0, 0, 0, 0, 0, 0, 0, 0, 0, 0, 0, 0, 0, 0, 0, 0, 0, 0, 0, 0, 0, 0, 0, 0, 0, 0, 0, 0, 0, 0, 0, 0, 0, 0, 0, 0, 0, 0, 0, 0, 0, 0, 0, 0, 0, 0, 0, 0, 0, 0, 0, 0, 0, 0, 0, 0, 0, 0, 0, 0, 0, 0, 0, 0, 0, 0, 0, 0, 0, 0, 0, 0, 0, 0, 0, 0, 0, 0, 0, 0, 0, 0, 0, 0, 0, 0, 0, 0, 0, 0, 0, 0, 0, 0, 0, 1, 0, 0, 0, 0, 0, 0, 0, 0, 0, 0, 0, 0, 0, 0, 1, 0, 0, 0, 0, 0, 0, 0, 0, 0, 0, 0, 0, 0, 0, 0, 0, 0, 0, 0, 0, 0, 0, 0, 0, 0, 0, 0, 0, 0, 0, 0, 0, 0, 0, 0, 0, 0, 0, 0, 1, 0, 0, 0, 0, 0, 0, 0, 0, 0, 0, 0, 0, 0, 0, 0, 0, 0, 0, 0, 0, 0, 0, 0, 0, 0, 0, 0, 0, 0, 0, 0, 0, 0, 0, 0, 0, 0, 0, 0, 0, 0, 0, 0, 0, 0, 1, 0, 0, 0, 0, 0, 0, 0, 0, 0, 0, 0, 0, 0, 0, 0, 0, 0, 0, 0, 0, 0, 0, 0, 0, 0, 0, 0, 0, 0, 0, 0, 0, 0, 0, 0, 0, 0, 0, 0, 0, 0, 0, 0, 0, 0, 0, 0, 0, 0, 0, 0, 0, 0, 0, 0, 0, 0, 0, 0, 0, 0, 0, 0, 0, 0, 0, 0, 0, 0, 0, 0, 0, 0, 0, 0, 0, 0, 0, 0, 0, 0, 0, 0, 0, 0, 0, 0, 0, 0, 0, 0, 0, 0, 0, 0, 0, 0, 0, 0, 0, 0, 0, 0, 0, 0, 0, 0, 0, 0, 0, 0, 0, 0, 0, 0, 0, 0, 0, 0, 0, 0, 0, 0, 0, 0, 0, 0, 0, 0, 0, 0, 0, 0, 0, 0, 0, 0, 0, 0, 0]\n"
          ]
        }
      ],
      "source": [
        "# Now read in the testing data.\n",
        "# For each testing example, create a vector\n",
        "# of binary features just as you did for the training data.\n",
        "# pretty sure it needs to be a one-hot vector, but have both just in case\n",
        "testing = []\n",
        "testinglabel = []\n",
        "one_hot_y_test = []\n",
        "\n",
        "for i in range(len(X_pretest)):\n",
        "  desc = X_pretest[i]\n",
        "  sentiment = y_pretest[i]\n",
        "  words = desc.rstrip().split()\n",
        "  vec = []\n",
        "  for t in top1000:\n",
        "      if t[0] in words:\n",
        "          vec.append(1)\n",
        "      else:\n",
        "          vec.append(0)\n",
        "  testing.append(vec)\n",
        "  testinglabel.append(sentiment)\n",
        "  if sentiment==-1:\n",
        "    one_hot_y_test.append([1,0,0])\n",
        "  elif sentiment==0:\n",
        "    one_hot_y_test.append([0,1,0])\n",
        "  else:\n",
        "    one_hot_y_test.append([0,0,1])\n",
        "\n",
        "print(len(testing))\n",
        "print(len(testing[0]))\n",
        "print(testing[0])"
      ]
    },
    {
      "cell_type": "markdown",
      "source": [
        "## Formatting the data\n",
        "\n",
        "We need the data to be in a specific shape for the CNN. This is specific to our data and to the CNN we are going to define later on."
      ],
      "metadata": {
        "id": "NRe2vcNaGDAE"
      }
    },
    {
      "cell_type": "code",
      "source": [
        "import numpy as np\n",
        "X_train = np.array(training)\n",
        "X_test = np.array(testing)\n",
        "y_train = np.array(traininglabel)\n",
        "y_test = np.array(testinglabel)\n",
        "\n",
        "X_btrain = np.array(balanced_training)\n",
        "y_btrain = np.array(balanced_traininglabel)\n",
        "\n",
        "print('Shape of training data: ')\n",
        "print(X_train.shape)\n",
        "print(y_train.shape)\n",
        "print('Shape of test data: ')\n",
        "print(X_test.shape)\n",
        "print(y_test.shape)\n",
        "\n",
        "X_train = X_train.reshape(-1, 1000, 1)\n",
        "X_test = X_test.reshape(-1, 1000, 1)\n",
        "\n",
        "X_btrain = X_btrain.reshape(-1, 1000, 1)\n",
        "\n",
        "print('Shape of training data: ')\n",
        "print(X_train.shape)\n",
        "print(y_train.shape)\n",
        "print('Shape of test data: ')\n",
        "print(X_test.shape)\n",
        "print(y_test.shape)\n"
      ],
      "metadata": {
        "id": "QjfmNVVUP2tf",
        "colab": {
          "base_uri": "https://localhost:8080/"
        },
        "outputId": "ae045c88-1583-4ce7-81de-b928d889efd9"
      },
      "execution_count": 41,
      "outputs": [
        {
          "output_type": "stream",
          "name": "stdout",
          "text": [
            "Shape of training data: \n",
            "(12471, 1000)\n",
            "(12471,)\n",
            "Shape of test data: \n",
            "(3118, 1000)\n",
            "(3118,)\n",
            "Shape of training data: \n",
            "(12471, 1000, 1)\n",
            "(12471,)\n",
            "Shape of test data: \n",
            "(3118, 1000, 1)\n",
            "(3118,)\n"
          ]
        }
      ]
    },
    {
      "cell_type": "markdown",
      "source": [
        "## Initializing the model\n",
        "\n",
        "The code blocks below initialize"
      ],
      "metadata": {
        "id": "m9jTF3TUGmPX"
      }
    },
    {
      "cell_type": "code",
      "source": [
        "import tensorflow as tf\n",
        "from tensorflow.keras.models import Sequential\n",
        "from tensorflow.keras.layers import Conv1D, MaxPooling1D, Dropout, Dense, Flatten\n",
        "\n"
      ],
      "metadata": {
        "id": "sxOq2xCXC9Kg"
      },
      "execution_count": 42,
      "outputs": []
    },
    {
      "cell_type": "code",
      "source": [
        "# Initialize the model\n",
        "\n",
        "# Here's the model.\n",
        "# We have four layers:\n",
        "#    2 convolutional layers\n",
        "#    1 flatten layer\n",
        "#    a final Dense layer to get the binary classification\n",
        "\n",
        "# For the convolutional layers, we are pooling with max\n",
        "# (i.e., when you pass the filter over, take the max of\n",
        "# all the values you get after you apply the filter)\n",
        "# and we have a dropout of 0.5 (i.e., throw out half the\n",
        "# nodes so you don't overfit).\n",
        "\n",
        "# You can change some of these parameters or add or remove\n",
        "# layers to see whether it might improve your results.\n",
        "# (Probably leave Flatten and Dense as-is, though.)\n",
        "\n",
        "\n",
        "model = Sequential([\n",
        "    Conv1D(filters=32, kernel_size=3, activation='relu'),\n",
        "    MaxPooling1D(pool_size=2),\n",
        "    Dropout(0.5),\n",
        "\n",
        "    Conv1D(filters=64, kernel_size=3, activation='relu'),\n",
        "    MaxPooling1D(pool_size=2),\n",
        "    Dropout(0.5),\n",
        "\n",
        "    Flatten(),\n",
        "    Dense(64, activation='relu'),\n",
        "    Dropout(0.5),\n",
        "\n",
        "    Dense(3, activation='sigmoid')  # have 3 nodes for the output layer b/c we have 3 classes\n",
        "])\n",
        "\n"
      ],
      "metadata": {
        "id": "2cdGBqujDBjI"
      },
      "execution_count": 43,
      "outputs": []
    },
    {
      "cell_type": "code",
      "source": [
        "# Compile the model\n",
        "# Again, you change the optimize, the loss function, or what metric you'd like report\n",
        "model.compile(optimizer='adam', loss='binary_crossentropy', metrics=['accuracy'])\n",
        "\n",
        "# Print summary\n",
        "model.summary()"
      ],
      "metadata": {
        "id": "mhnI3W3SDEiZ",
        "colab": {
          "base_uri": "https://localhost:8080/",
          "height": 461
        },
        "outputId": "984e8e1d-78c6-4c1c-936e-cf253ea685a3"
      },
      "execution_count": 44,
      "outputs": [
        {
          "output_type": "display_data",
          "data": {
            "text/plain": [
              "\u001b[1mModel: \"sequential_3\"\u001b[0m\n"
            ],
            "text/html": [
              "<pre style=\"white-space:pre;overflow-x:auto;line-height:normal;font-family:Menlo,'DejaVu Sans Mono',consolas,'Courier New',monospace\"><span style=\"font-weight: bold\">Model: \"sequential_3\"</span>\n",
              "</pre>\n"
            ]
          },
          "metadata": {}
        },
        {
          "output_type": "display_data",
          "data": {
            "text/plain": [
              "┏━━━━━━━━━━━━━━━━━━━━━━━━━━━━━━━━━┳━━━━━━━━━━━━━━━━━━━━━━━━┳━━━━━━━━━━━━━━━┓\n",
              "┃\u001b[1m \u001b[0m\u001b[1mLayer (type)                   \u001b[0m\u001b[1m \u001b[0m┃\u001b[1m \u001b[0m\u001b[1mOutput Shape          \u001b[0m\u001b[1m \u001b[0m┃\u001b[1m \u001b[0m\u001b[1m      Param #\u001b[0m\u001b[1m \u001b[0m┃\n",
              "┡━━━━━━━━━━━━━━━━━━━━━━━━━━━━━━━━━╇━━━━━━━━━━━━━━━━━━━━━━━━╇━━━━━━━━━━━━━━━┩\n",
              "│ conv1d_6 (\u001b[38;5;33mConv1D\u001b[0m)               │ ?                      │   \u001b[38;5;34m0\u001b[0m (unbuilt) │\n",
              "├─────────────────────────────────┼────────────────────────┼───────────────┤\n",
              "│ max_pooling1d_6 (\u001b[38;5;33mMaxPooling1D\u001b[0m)  │ ?                      │             \u001b[38;5;34m0\u001b[0m │\n",
              "├─────────────────────────────────┼────────────────────────┼───────────────┤\n",
              "│ dropout_9 (\u001b[38;5;33mDropout\u001b[0m)             │ ?                      │             \u001b[38;5;34m0\u001b[0m │\n",
              "├─────────────────────────────────┼────────────────────────┼───────────────┤\n",
              "│ conv1d_7 (\u001b[38;5;33mConv1D\u001b[0m)               │ ?                      │   \u001b[38;5;34m0\u001b[0m (unbuilt) │\n",
              "├─────────────────────────────────┼────────────────────────┼───────────────┤\n",
              "│ max_pooling1d_7 (\u001b[38;5;33mMaxPooling1D\u001b[0m)  │ ?                      │             \u001b[38;5;34m0\u001b[0m │\n",
              "├─────────────────────────────────┼────────────────────────┼───────────────┤\n",
              "│ dropout_10 (\u001b[38;5;33mDropout\u001b[0m)            │ ?                      │             \u001b[38;5;34m0\u001b[0m │\n",
              "├─────────────────────────────────┼────────────────────────┼───────────────┤\n",
              "│ flatten_3 (\u001b[38;5;33mFlatten\u001b[0m)             │ ?                      │   \u001b[38;5;34m0\u001b[0m (unbuilt) │\n",
              "├─────────────────────────────────┼────────────────────────┼───────────────┤\n",
              "│ dense_6 (\u001b[38;5;33mDense\u001b[0m)                 │ ?                      │   \u001b[38;5;34m0\u001b[0m (unbuilt) │\n",
              "├─────────────────────────────────┼────────────────────────┼───────────────┤\n",
              "│ dropout_11 (\u001b[38;5;33mDropout\u001b[0m)            │ ?                      │             \u001b[38;5;34m0\u001b[0m │\n",
              "├─────────────────────────────────┼────────────────────────┼───────────────┤\n",
              "│ dense_7 (\u001b[38;5;33mDense\u001b[0m)                 │ ?                      │   \u001b[38;5;34m0\u001b[0m (unbuilt) │\n",
              "└─────────────────────────────────┴────────────────────────┴───────────────┘\n"
            ],
            "text/html": [
              "<pre style=\"white-space:pre;overflow-x:auto;line-height:normal;font-family:Menlo,'DejaVu Sans Mono',consolas,'Courier New',monospace\">┏━━━━━━━━━━━━━━━━━━━━━━━━━━━━━━━━━┳━━━━━━━━━━━━━━━━━━━━━━━━┳━━━━━━━━━━━━━━━┓\n",
              "┃<span style=\"font-weight: bold\"> Layer (type)                    </span>┃<span style=\"font-weight: bold\"> Output Shape           </span>┃<span style=\"font-weight: bold\">       Param # </span>┃\n",
              "┡━━━━━━━━━━━━━━━━━━━━━━━━━━━━━━━━━╇━━━━━━━━━━━━━━━━━━━━━━━━╇━━━━━━━━━━━━━━━┩\n",
              "│ conv1d_6 (<span style=\"color: #0087ff; text-decoration-color: #0087ff\">Conv1D</span>)               │ ?                      │   <span style=\"color: #00af00; text-decoration-color: #00af00\">0</span> (unbuilt) │\n",
              "├─────────────────────────────────┼────────────────────────┼───────────────┤\n",
              "│ max_pooling1d_6 (<span style=\"color: #0087ff; text-decoration-color: #0087ff\">MaxPooling1D</span>)  │ ?                      │             <span style=\"color: #00af00; text-decoration-color: #00af00\">0</span> │\n",
              "├─────────────────────────────────┼────────────────────────┼───────────────┤\n",
              "│ dropout_9 (<span style=\"color: #0087ff; text-decoration-color: #0087ff\">Dropout</span>)             │ ?                      │             <span style=\"color: #00af00; text-decoration-color: #00af00\">0</span> │\n",
              "├─────────────────────────────────┼────────────────────────┼───────────────┤\n",
              "│ conv1d_7 (<span style=\"color: #0087ff; text-decoration-color: #0087ff\">Conv1D</span>)               │ ?                      │   <span style=\"color: #00af00; text-decoration-color: #00af00\">0</span> (unbuilt) │\n",
              "├─────────────────────────────────┼────────────────────────┼───────────────┤\n",
              "│ max_pooling1d_7 (<span style=\"color: #0087ff; text-decoration-color: #0087ff\">MaxPooling1D</span>)  │ ?                      │             <span style=\"color: #00af00; text-decoration-color: #00af00\">0</span> │\n",
              "├─────────────────────────────────┼────────────────────────┼───────────────┤\n",
              "│ dropout_10 (<span style=\"color: #0087ff; text-decoration-color: #0087ff\">Dropout</span>)            │ ?                      │             <span style=\"color: #00af00; text-decoration-color: #00af00\">0</span> │\n",
              "├─────────────────────────────────┼────────────────────────┼───────────────┤\n",
              "│ flatten_3 (<span style=\"color: #0087ff; text-decoration-color: #0087ff\">Flatten</span>)             │ ?                      │   <span style=\"color: #00af00; text-decoration-color: #00af00\">0</span> (unbuilt) │\n",
              "├─────────────────────────────────┼────────────────────────┼───────────────┤\n",
              "│ dense_6 (<span style=\"color: #0087ff; text-decoration-color: #0087ff\">Dense</span>)                 │ ?                      │   <span style=\"color: #00af00; text-decoration-color: #00af00\">0</span> (unbuilt) │\n",
              "├─────────────────────────────────┼────────────────────────┼───────────────┤\n",
              "│ dropout_11 (<span style=\"color: #0087ff; text-decoration-color: #0087ff\">Dropout</span>)            │ ?                      │             <span style=\"color: #00af00; text-decoration-color: #00af00\">0</span> │\n",
              "├─────────────────────────────────┼────────────────────────┼───────────────┤\n",
              "│ dense_7 (<span style=\"color: #0087ff; text-decoration-color: #0087ff\">Dense</span>)                 │ ?                      │   <span style=\"color: #00af00; text-decoration-color: #00af00\">0</span> (unbuilt) │\n",
              "└─────────────────────────────────┴────────────────────────┴───────────────┘\n",
              "</pre>\n"
            ]
          },
          "metadata": {}
        },
        {
          "output_type": "display_data",
          "data": {
            "text/plain": [
              "\u001b[1m Total params: \u001b[0m\u001b[38;5;34m0\u001b[0m (0.00 B)\n"
            ],
            "text/html": [
              "<pre style=\"white-space:pre;overflow-x:auto;line-height:normal;font-family:Menlo,'DejaVu Sans Mono',consolas,'Courier New',monospace\"><span style=\"font-weight: bold\"> Total params: </span><span style=\"color: #00af00; text-decoration-color: #00af00\">0</span> (0.00 B)\n",
              "</pre>\n"
            ]
          },
          "metadata": {}
        },
        {
          "output_type": "display_data",
          "data": {
            "text/plain": [
              "\u001b[1m Trainable params: \u001b[0m\u001b[38;5;34m0\u001b[0m (0.00 B)\n"
            ],
            "text/html": [
              "<pre style=\"white-space:pre;overflow-x:auto;line-height:normal;font-family:Menlo,'DejaVu Sans Mono',consolas,'Courier New',monospace\"><span style=\"font-weight: bold\"> Trainable params: </span><span style=\"color: #00af00; text-decoration-color: #00af00\">0</span> (0.00 B)\n",
              "</pre>\n"
            ]
          },
          "metadata": {}
        },
        {
          "output_type": "display_data",
          "data": {
            "text/plain": [
              "\u001b[1m Non-trainable params: \u001b[0m\u001b[38;5;34m0\u001b[0m (0.00 B)\n"
            ],
            "text/html": [
              "<pre style=\"white-space:pre;overflow-x:auto;line-height:normal;font-family:Menlo,'DejaVu Sans Mono',consolas,'Courier New',monospace\"><span style=\"font-weight: bold\"> Non-trainable params: </span><span style=\"color: #00af00; text-decoration-color: #00af00\">0</span> (0.00 B)\n",
              "</pre>\n"
            ]
          },
          "metadata": {}
        }
      ]
    },
    {
      "cell_type": "code",
      "source": [
        "# Finally train the model!\n",
        "# You can chage the number of epochs and the batch size, too.\n",
        "#I think the X_train/test is wrong, but not sure how\n",
        "one_hot_y = np.array(one_hot_y)\n",
        "one_hot_y_test = np.array(one_hot_y_test)\n",
        "\n",
        "model.fit(X_btrain, y_btrain, epochs=15, batch_size=32, validation_data=(X_test, one_hot_y_test))"
      ],
      "metadata": {
        "id": "F0m6ohoTDIiT",
        "colab": {
          "base_uri": "https://localhost:8080/"
        },
        "outputId": "4bb74a59-9235-4a2f-a268-febed1a139c3"
      },
      "execution_count": 45,
      "outputs": [
        {
          "output_type": "stream",
          "name": "stdout",
          "text": [
            "Epoch 1/15\n",
            "\u001b[1m235/235\u001b[0m \u001b[32m━━━━━━━━━━━━━━━━━━━━\u001b[0m\u001b[37m\u001b[0m \u001b[1m18s\u001b[0m 64ms/step - accuracy: 0.3935 - loss: 0.6411 - val_accuracy: 0.5574 - val_loss: 0.5840\n",
            "Epoch 2/15\n",
            "\u001b[1m235/235\u001b[0m \u001b[32m━━━━━━━━━━━━━━━━━━━━\u001b[0m\u001b[37m\u001b[0m \u001b[1m17s\u001b[0m 71ms/step - accuracy: 0.4774 - loss: 0.5967 - val_accuracy: 0.5776 - val_loss: 0.5567\n",
            "Epoch 3/15\n",
            "\u001b[1m235/235\u001b[0m \u001b[32m━━━━━━━━━━━━━━━━━━━━\u001b[0m\u001b[37m\u001b[0m \u001b[1m15s\u001b[0m 64ms/step - accuracy: 0.5104 - loss: 0.5831 - val_accuracy: 0.5471 - val_loss: 0.5646\n",
            "Epoch 4/15\n",
            "\u001b[1m235/235\u001b[0m \u001b[32m━━━━━━━━━━━━━━━━━━━━\u001b[0m\u001b[37m\u001b[0m \u001b[1m15s\u001b[0m 63ms/step - accuracy: 0.5422 - loss: 0.5668 - val_accuracy: 0.5446 - val_loss: 0.5641\n",
            "Epoch 5/15\n",
            "\u001b[1m235/235\u001b[0m \u001b[32m━━━━━━━━━━━━━━━━━━━━\u001b[0m\u001b[37m\u001b[0m \u001b[1m15s\u001b[0m 63ms/step - accuracy: 0.5578 - loss: 0.5542 - val_accuracy: 0.5334 - val_loss: 0.5686\n",
            "Epoch 6/15\n",
            "\u001b[1m235/235\u001b[0m \u001b[32m━━━━━━━━━━━━━━━━━━━━\u001b[0m\u001b[37m\u001b[0m \u001b[1m20s\u001b[0m 62ms/step - accuracy: 0.5770 - loss: 0.5359 - val_accuracy: 0.5449 - val_loss: 0.5585\n",
            "Epoch 7/15\n",
            "\u001b[1m235/235\u001b[0m \u001b[32m━━━━━━━━━━━━━━━━━━━━\u001b[0m\u001b[37m\u001b[0m \u001b[1m21s\u001b[0m 64ms/step - accuracy: 0.5942 - loss: 0.5173 - val_accuracy: 0.5292 - val_loss: 0.5636\n",
            "Epoch 8/15\n",
            "\u001b[1m235/235\u001b[0m \u001b[32m━━━━━━━━━━━━━━━━━━━━\u001b[0m\u001b[37m\u001b[0m \u001b[1m15s\u001b[0m 66ms/step - accuracy: 0.6093 - loss: 0.5060 - val_accuracy: 0.5154 - val_loss: 0.5791\n",
            "Epoch 9/15\n",
            "\u001b[1m235/235\u001b[0m \u001b[32m━━━━━━━━━━━━━━━━━━━━\u001b[0m\u001b[37m\u001b[0m \u001b[1m20s\u001b[0m 62ms/step - accuracy: 0.6184 - loss: 0.4935 - val_accuracy: 0.5186 - val_loss: 0.5770\n",
            "Epoch 10/15\n",
            "\u001b[1m235/235\u001b[0m \u001b[32m━━━━━━━━━━━━━━━━━━━━\u001b[0m\u001b[37m\u001b[0m \u001b[1m20s\u001b[0m 62ms/step - accuracy: 0.6266 - loss: 0.4821 - val_accuracy: 0.5449 - val_loss: 0.5673\n",
            "Epoch 11/15\n",
            "\u001b[1m235/235\u001b[0m \u001b[32m━━━━━━━━━━━━━━━━━━━━\u001b[0m\u001b[37m\u001b[0m \u001b[1m22s\u001b[0m 68ms/step - accuracy: 0.6482 - loss: 0.4768 - val_accuracy: 0.5359 - val_loss: 0.5759\n",
            "Epoch 12/15\n",
            "\u001b[1m235/235\u001b[0m \u001b[32m━━━━━━━━━━━━━━━━━━━━\u001b[0m\u001b[37m\u001b[0m \u001b[1m15s\u001b[0m 62ms/step - accuracy: 0.6524 - loss: 0.4546 - val_accuracy: 0.5244 - val_loss: 0.5893\n",
            "Epoch 13/15\n",
            "\u001b[1m235/235\u001b[0m \u001b[32m━━━━━━━━━━━━━━━━━━━━\u001b[0m\u001b[37m\u001b[0m \u001b[1m20s\u001b[0m 62ms/step - accuracy: 0.6834 - loss: 0.4308 - val_accuracy: 0.5353 - val_loss: 0.5784\n",
            "Epoch 14/15\n",
            "\u001b[1m235/235\u001b[0m \u001b[32m━━━━━━━━━━━━━━━━━━━━\u001b[0m\u001b[37m\u001b[0m \u001b[1m16s\u001b[0m 68ms/step - accuracy: 0.6882 - loss: 0.4238 - val_accuracy: 0.5096 - val_loss: 0.6065\n",
            "Epoch 15/15\n",
            "\u001b[1m235/235\u001b[0m \u001b[32m━━━━━━━━━━━━━━━━━━━━\u001b[0m\u001b[37m\u001b[0m \u001b[1m19s\u001b[0m 62ms/step - accuracy: 0.6853 - loss: 0.4207 - val_accuracy: 0.4990 - val_loss: 0.6217\n"
          ]
        },
        {
          "output_type": "execute_result",
          "data": {
            "text/plain": [
              "<keras.src.callbacks.history.History at 0x7e733140dfd0>"
            ]
          },
          "metadata": {},
          "execution_count": 45
        }
      ]
    },
    {
      "cell_type": "code",
      "source": [
        "model.evaluate(X_test, one_hot_y_test)\n",
        "\n",
        "from sklearn.metrics import classification_report\n",
        "\n",
        "# # check results:\n",
        "\n",
        "y_pred = model.predict(X_test)\n",
        "\n",
        "y_pred_classes = np.argmax(y_pred, axis=1)\n",
        "\n",
        "y_true = np.argmax(one_hot_y_test, axis=1)\n",
        "\n",
        "\n",
        "\n",
        "\n",
        "\n",
        "print(classification_report(y_true, y_pred_classes, target_names=[\"negative\", \"neutral\", \"positive\"]))\n",
        "\n",
        "print(np.unique(np.argmax(y_pred, axis=1), return_counts=True))\n"
      ],
      "metadata": {
        "colab": {
          "base_uri": "https://localhost:8080/"
        },
        "id": "OobdQ46SYuOB",
        "outputId": "df0b3d78-88a4-4084-d1e5-b9144418a34a"
      },
      "execution_count": 46,
      "outputs": [
        {
          "output_type": "stream",
          "name": "stdout",
          "text": [
            "\u001b[1m98/98\u001b[0m \u001b[32m━━━━━━━━━━━━━━━━━━━━\u001b[0m\u001b[37m\u001b[0m \u001b[1m1s\u001b[0m 12ms/step - accuracy: 0.4881 - loss: 0.6287\n",
            "\u001b[1m98/98\u001b[0m \u001b[32m━━━━━━━━━━━━━━━━━━━━\u001b[0m\u001b[37m\u001b[0m \u001b[1m1s\u001b[0m 12ms/step\n",
            "              precision    recall  f1-score   support\n",
            "\n",
            "    negative       0.41      0.52      0.46       673\n",
            "     neutral       0.27      0.43      0.33       687\n",
            "    positive       0.77      0.52      0.62      1758\n",
            "\n",
            "    accuracy                           0.50      3118\n",
            "   macro avg       0.48      0.49      0.47      3118\n",
            "weighted avg       0.58      0.50      0.52      3118\n",
            "\n",
            "(array([0, 1, 2]), array([ 844, 1089, 1185]))\n"
          ]
        }
      ]
    },
    {
      "cell_type": "markdown",
      "source": [
        "unbalanced:\n",
        "\n",
        "```\n",
        " negative       0.13      0.01      0.01       673\n",
        "     neutral       0.00      0.00      0.00       687\n",
        "    positive       0.56      0.99      0.72      1758\n",
        "\n",
        "    accuracy                           0.56      3118\n",
        "   macro avg       0.23      0.33      0.24      3118\n",
        "weighted avg       0.35      0.56      0.41      3118```\n",
        "\n",
        "```\n",
        "\n",
        "balanced:\n",
        "```\n",
        "              precision    recall  f1-score   support\n",
        "\n",
        "    negative       0.41      0.52      0.46       673\n",
        "     neutral       0.27      0.43      0.33       687\n",
        "    positive       0.77      0.52      0.62      1758\n",
        "\n",
        "    accuracy                           0.50      3118\n",
        "   macro avg       0.48      0.49      0.47      3118\n",
        "weighted avg       0.58      0.50      0.52      3118```\n",
        "\n"
      ],
      "metadata": {
        "id": "AccFwuenckhV"
      }
    }
  ],
  "metadata": {
    "kernelspec": {
      "display_name": "Python 3",
      "name": "python3"
    },
    "language_info": {
      "codemirror_mode": {
        "name": "ipython",
        "version": 3
      },
      "file_extension": ".py",
      "mimetype": "text/x-python",
      "name": "python",
      "nbconvert_exporter": "python",
      "pygments_lexer": "ipython3",
      "version": "3.9.1"
    },
    "colab": {
      "provenance": []
    }
  },
  "nbformat": 4,
  "nbformat_minor": 0
}