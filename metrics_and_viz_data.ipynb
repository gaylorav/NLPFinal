{
  "cells": [
    {
      "cell_type": "markdown",
      "metadata": {
        "id": "c8G_MmnTo8Uz"
      },
      "source": [
        "# Downloading Data from Git"
      ]
    },
    {
      "cell_type": "code",
      "execution_count": 65,
      "metadata": {
        "id": "GmIUpBwlo8kP",
        "colab": {
          "base_uri": "https://localhost:8080/"
        },
        "outputId": "401de441-76d6-4152-f48a-508773a69204"
      },
      "outputs": [
        {
          "output_type": "stream",
          "name": "stdout",
          "text": [
            "  % Total    % Received % Xferd  Average Speed   Time    Time     Time  Current\n",
            "                                 Dload  Upload   Total   Spent    Left  Speed\n",
            "100 18.1M  100 18.1M    0     0  57.0M      0 --:--:-- --:--:-- --:--:-- 56.9M\n",
            "  % Total    % Received % Xferd  Average Speed   Time    Time     Time  Current\n",
            "                                 Dload  Upload   Total   Spent    Left  Speed\n",
            "100 3230k  100 3230k    0     0  7474k      0 --:--:-- --:--:-- --:--:-- 7477k\n",
            "bg_descriptions.csv\tbg_word_counts.csv\tbg_word_counts_pos.csv\n",
            "bg_descriptions_v2.csv\tbg_word_counts_neg.csv\tsample_data\n"
          ]
        }
      ],
      "source": [
        "! curl -O https://raw.githubusercontent.com/gaylorav/NLPFinal/main/bg_descriptions.csv\n",
        "! curl -O https://raw.githubusercontent.com/gaylorav/NLPFinal/main/bg_descriptions_v2.csv\n",
        "! ls"
      ]
    },
    {
      "cell_type": "markdown",
      "source": [
        "#Imports"
      ],
      "metadata": {
        "id": "tH-ZE--rzkeG"
      }
    },
    {
      "cell_type": "code",
      "source": [
        "import pandas as pd\n",
        "import numpy as np\n",
        "import matplotlib.pyplot as plt\n",
        "import nltk\n",
        "from nltk.corpus import stopwords\n",
        "nltk.download('popular')\n",
        "nltk.download('punkt_tab')\n",
        "import re\n",
        "from nltk import ngrams\n",
        "from collections import defaultdict\n",
        "import string"
      ],
      "metadata": {
        "colab": {
          "base_uri": "https://localhost:8080/"
        },
        "collapsed": true,
        "id": "3VEH_CAtzoIs",
        "outputId": "7313944b-d5f1-4882-b8d5-ead099e15f42"
      },
      "execution_count": 66,
      "outputs": [
        {
          "output_type": "stream",
          "name": "stderr",
          "text": [
            "[nltk_data] Downloading collection 'popular'\n",
            "[nltk_data]    | \n",
            "[nltk_data]    | Downloading package cmudict to /root/nltk_data...\n",
            "[nltk_data]    |   Package cmudict is already up-to-date!\n",
            "[nltk_data]    | Downloading package gazetteers to /root/nltk_data...\n",
            "[nltk_data]    |   Package gazetteers is already up-to-date!\n",
            "[nltk_data]    | Downloading package genesis to /root/nltk_data...\n",
            "[nltk_data]    |   Package genesis is already up-to-date!\n",
            "[nltk_data]    | Downloading package gutenberg to /root/nltk_data...\n",
            "[nltk_data]    |   Package gutenberg is already up-to-date!\n",
            "[nltk_data]    | Downloading package inaugural to /root/nltk_data...\n",
            "[nltk_data]    |   Package inaugural is already up-to-date!\n",
            "[nltk_data]    | Downloading package movie_reviews to\n",
            "[nltk_data]    |     /root/nltk_data...\n",
            "[nltk_data]    |   Package movie_reviews is already up-to-date!\n",
            "[nltk_data]    | Downloading package names to /root/nltk_data...\n",
            "[nltk_data]    |   Package names is already up-to-date!\n",
            "[nltk_data]    | Downloading package shakespeare to /root/nltk_data...\n",
            "[nltk_data]    |   Package shakespeare is already up-to-date!\n",
            "[nltk_data]    | Downloading package stopwords to /root/nltk_data...\n",
            "[nltk_data]    |   Package stopwords is already up-to-date!\n",
            "[nltk_data]    | Downloading package treebank to /root/nltk_data...\n",
            "[nltk_data]    |   Package treebank is already up-to-date!\n",
            "[nltk_data]    | Downloading package twitter_samples to\n",
            "[nltk_data]    |     /root/nltk_data...\n",
            "[nltk_data]    |   Package twitter_samples is already up-to-date!\n",
            "[nltk_data]    | Downloading package omw to /root/nltk_data...\n",
            "[nltk_data]    |   Package omw is already up-to-date!\n",
            "[nltk_data]    | Downloading package omw-1.4 to /root/nltk_data...\n",
            "[nltk_data]    |   Package omw-1.4 is already up-to-date!\n",
            "[nltk_data]    | Downloading package wordnet to /root/nltk_data...\n",
            "[nltk_data]    |   Package wordnet is already up-to-date!\n",
            "[nltk_data]    | Downloading package wordnet2021 to /root/nltk_data...\n",
            "[nltk_data]    |   Package wordnet2021 is already up-to-date!\n",
            "[nltk_data]    | Downloading package wordnet31 to /root/nltk_data...\n",
            "[nltk_data]    |   Package wordnet31 is already up-to-date!\n",
            "[nltk_data]    | Downloading package wordnet_ic to /root/nltk_data...\n",
            "[nltk_data]    |   Package wordnet_ic is already up-to-date!\n",
            "[nltk_data]    | Downloading package words to /root/nltk_data...\n",
            "[nltk_data]    |   Package words is already up-to-date!\n",
            "[nltk_data]    | Downloading package maxent_ne_chunker to\n",
            "[nltk_data]    |     /root/nltk_data...\n",
            "[nltk_data]    |   Package maxent_ne_chunker is already up-to-date!\n",
            "[nltk_data]    | Downloading package punkt to /root/nltk_data...\n",
            "[nltk_data]    |   Package punkt is already up-to-date!\n",
            "[nltk_data]    | Downloading package snowball_data to\n",
            "[nltk_data]    |     /root/nltk_data...\n",
            "[nltk_data]    |   Package snowball_data is already up-to-date!\n",
            "[nltk_data]    | Downloading package averaged_perceptron_tagger to\n",
            "[nltk_data]    |     /root/nltk_data...\n",
            "[nltk_data]    |   Package averaged_perceptron_tagger is already up-\n",
            "[nltk_data]    |       to-date!\n",
            "[nltk_data]    | \n",
            "[nltk_data]  Done downloading collection popular\n",
            "[nltk_data] Downloading package punkt_tab to /root/nltk_data...\n",
            "[nltk_data]   Package punkt_tab is already up-to-date!\n"
          ]
        }
      ]
    },
    {
      "cell_type": "markdown",
      "metadata": {
        "id": "dIk44k9jq8sZ"
      },
      "source": [
        "# Selecting Relevant Columns From CSV -> PD"
      ]
    },
    {
      "cell_type": "code",
      "execution_count": 67,
      "metadata": {
        "id": "Z6XBFTZ6r152",
        "colab": {
          "base_uri": "https://localhost:8080/"
        },
        "outputId": "81e3c4ac-7425-420e-9b29-8198b3f46ac6"
      },
      "outputs": [
        {
          "output_type": "stream",
          "name": "stdout",
          "text": [
            "15589\n",
            "sentiment\n",
            "-1    3276\n",
            " 0    3431\n",
            " 1    8882\n",
            "Name: count, dtype: int64\n"
          ]
        }
      ],
      "source": [
        "descriptions_df = pd.read_csv(\"bg_descriptions.csv\", encoding=\"utf-8\")\n",
        "descriptions_df['id'] = descriptions_df['id'].astype(int)\n",
        "descriptions_df['usersrated'] = descriptions_df['usersrated'].astype(int)\n",
        "descriptions_df['average'] = descriptions_df['average'].astype(float)\n",
        "descriptions_df['sentiment'] = descriptions_df['sentiment'].astype(int)\n",
        "\n",
        "print(len(descriptions_df))\n",
        "\n",
        "sentiment_counts = descriptions_df['sentiment'].value_counts().sort_index()\n",
        "print(sentiment_counts)"
      ]
    },
    {
      "cell_type": "code",
      "source": [
        "descriptions_df2 = pd.read_csv(\"bg_descriptions_v2.csv\", encoding=\"utf-8\")\n",
        "descriptions_df2['id'] = descriptions_df2['id'].astype(int)\n",
        "descriptions_df2['usersrated'] = descriptions_df2['usersrated'].astype(int)\n",
        "descriptions_df2['average'] = descriptions_df2['average'].astype(float)\n",
        "descriptions_df2['sentiment'] = descriptions_df2['sentiment'].astype(int)\n",
        "\n",
        "print(len(descriptions_df2))\n",
        "\n",
        "sentiment_counts2 = descriptions_df2['sentiment'].value_counts().sort_index()\n",
        "print(sentiment_counts2)"
      ],
      "metadata": {
        "colab": {
          "base_uri": "https://localhost:8080/"
        },
        "id": "amD4Gbg9RqS6",
        "outputId": "2dc3cea4-f1c2-4c26-9d0f-db84b998497a"
      },
      "execution_count": 68,
      "outputs": [
        {
          "output_type": "stream",
          "name": "stdout",
          "text": [
            "2600\n",
            "sentiment\n",
            "0    1300\n",
            "1    1300\n",
            "Name: count, dtype: int64\n"
          ]
        }
      ]
    },
    {
      "cell_type": "markdown",
      "metadata": {
        "id": "nzx1oHf5mKUw"
      },
      "source": [
        "# Analyzing Distribution of Board Game Ratings"
      ]
    },
    {
      "cell_type": "code",
      "execution_count": 69,
      "metadata": {
        "id": "l_2Gbu8xmZCx",
        "colab": {
          "base_uri": "https://localhost:8080/",
          "height": 472
        },
        "outputId": "8247da1d-5e80-4c7d-e0aa-b7ad9f98d7cf"
      },
      "outputs": [
        {
          "output_type": "display_data",
          "data": {
            "text/plain": [
              "<Figure size 640x480 with 1 Axes>"
            ],
            "image/png": "[encoded data removed]"
          },
          "metadata": {}
        }
      ],
      "source": [
        "rounded_ratings = descriptions_df[\"average\"]\n",
        "\n",
        "# Plot the histogram\n",
        "descriptions_df[\"average\"].hist(bins=[0.5, 1.0, 1.5, 2.0, 2.5, 3.0, 3.5, 4.0, 4.5, 5.0, 5.5, 6.0, 6.5, 7.0, 7.5, 8.0, 8.5, 9.0, 9.5, 10.0, 10.5], edgecolor='black')\n",
        "plt.xlabel(\"Rounded Rating\")\n",
        "plt.ylabel(\"Frequency\")\n",
        "plt.title(\"Distribution of Rounded Ratings\")\n",
        "plt.xticks([1,2,3,4,5,6,7,8,9,10])\n",
        "plt.grid(axis='y')\n",
        "plt.show()\n"
      ]
    },
    {
      "cell_type": "code",
      "source": [
        "stoplist = stopwords.words('english')\n",
        "top_ten_common = set([\"game\", \"players\", \"cards\", \"player\", \"one\", \"card\", \"play\", \"points\", \"new\", \"turn\"])\n",
        "stoplist = stoplist + list(string.punctuation) + [\"'s\", \"n't\"]\n",
        "stoplist = set(stoplist)\n",
        "\n",
        "pattern = re.compile(r'^[^A-Za-z0-9\\s]+$')\n",
        "\n",
        "word_lens = []\n",
        "words = []\n",
        "\n",
        "for d in descriptions_df[\"description\"]:\n",
        "  d = nltk.word_tokenize(d)\n",
        "  word_lens.append(len(d))\n",
        "  for word in d:\n",
        "    word = word.lower()\n",
        "    if word not in stoplist and not pattern.match(word):\n",
        "      words.append(word)\n",
        "\n",
        "pos_word_lens = []\n",
        "neg_word_lens = []\n",
        "pos_words = []\n",
        "neg_words = []\n",
        "\n",
        "for d, r in zip(descriptions_df2[\"description\"], descriptions_df2[\"sentiment\"]):\n",
        "  d = nltk.word_tokenize(d)\n",
        "  if r == 1:\n",
        "    pos_word_lens.append(len(d))\n",
        "    for word in d:\n",
        "      word = word.lower()\n",
        "      if word not in stoplist and not pattern.match(word) and word not in top_ten_common:\n",
        "        pos_words.append(word)\n",
        "  else:\n",
        "    neg_word_lens.append(len(d))\n",
        "    for word in d:\n",
        "      word = word.lower()\n",
        "      if word not in stoplist and not pattern.match(word) and word not in top_ten_common:\n",
        "        neg_words.append(word)"
      ],
      "metadata": {
        "id": "2NAHUjb2zgam"
      },
      "execution_count": 70,
      "outputs": []
    },
    {
      "cell_type": "code",
      "source": [
        "print(descriptions_df[\"usersrated\"].median())\n",
        "print(descriptions_df[\"usersrated\"].mean())\n",
        "print(f\"average word count 3 class: {sum(word_lens) / len(word_lens)}\")\n",
        "print(f\"positive word count (binary df): {sum(pos_word_lens) / len(pos_word_lens)}\")\n",
        "print(f\"negative word count (binary df): {sum(neg_word_lens) / len(neg_word_lens)}\")"
      ],
      "metadata": {
        "id": "CpN1brQY0gep",
        "colab": {
          "base_uri": "https://localhost:8080/"
        },
        "outputId": "c8455350-d82b-4491-8e57-6ba907a7d303"
      },
      "execution_count": 71,
      "outputs": [
        {
          "output_type": "stream",
          "name": "stdout",
          "text": [
            "337.0\n",
            "1635.871896850343\n",
            "average word count 3 class: 229.9239207133235\n",
            "positive word count (binary df): 301.1223076923077\n",
            "negative word count (binary df): 171.78307692307692\n"
          ]
        }
      ]
    },
    {
      "cell_type": "code",
      "source": [
        "df_words = pd.Series(words).value_counts().reset_index()\n",
        "df_words_pos = pd.Series(pos_words).value_counts().reset_index()\n",
        "df_words_neg = pd.Series(neg_words).value_counts().reset_index()\n",
        "df_words.columns = ['word', 'frequency']\n",
        "df_words_pos.columns = ['word', 'frequency']\n",
        "df_words_neg.columns = ['word', 'frequency']\n",
        "\n",
        "df_words.to_csv('bg_word_counts.csv', index=False)\n",
        "df_words_pos.to_csv('bg_word_counts_pos.csv', index=False)\n",
        "df_words_neg.to_csv('bg_word_counts_neg.csv', index=False)"
      ],
      "metadata": {
        "id": "BSCcaPIIX6l1"
      },
      "execution_count": 72,
      "outputs": []
    }
  ],
  "metadata": {
    "colab": {
      "gpuType": "T4",
      "provenance": []
    },
    "kernelspec": {
      "display_name": "Python 3",
      "name": "python3"
    },
    "language_info": {
      "name": "python"
    }
  },
  "nbformat": 4,
  "nbformat_minor": 0
}